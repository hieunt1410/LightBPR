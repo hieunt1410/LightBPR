{
 "cells": [
  {
   "cell_type": "code",
   "execution_count": 234,
   "metadata": {},
   "outputs": [],
   "source": [
    "import numpy as np\n",
    "import pandas as pd\n",
    "import scipy.sparse as sp\n",
    "import torch\n",
    "from sklearn.preprocessing import LabelEncoder"
   ]
  },
  {
   "cell_type": "code",
   "execution_count": 235,
   "metadata": {},
   "outputs": [
    {
     "data": {
      "text/plain": [
       "(   b     i\n",
       " 0  0   164\n",
       " 1  0   746\n",
       " 2  0  1068\n",
       " 3  0  1179\n",
       " 4  0  1748,\n",
       "    u     i\n",
       " 0  0  2235\n",
       " 1  0   587\n",
       " 2  0  2240\n",
       " 3  0  2884\n",
       " 4  0  2885)"
      ]
     },
     "execution_count": 235,
     "metadata": {},
     "output_type": "execute_result"
    }
   ],
   "source": [
    "bi = pd.read_csv('data/MovieLens/bundle_item.txt', sep=\"\\t\", names=['b', 'i'])\n",
    "ui = pd.read_csv('data/MovieLens/user_item.txt', sep=\"\\t\", names=['u', 'i'])\n",
    "ub_train = pd.read_csv('data/MovieLens/user_bundle_train.txt', sep=\"\\t\", names=['u', 'b'])\n",
    "ub_test = pd.read_csv('data/MovieLens/user_bundle_test.txt', sep=\"\\t\", names=['u', 'b'])\n",
    "ub_valid = pd.read_csv('data/MovieLens/user_bundle_tune.txt', sep=\"\\t\", names=['u', 'b'])\n",
    "\n",
    "\n",
    "bi.head(), ui.head()"
   ]
  },
  {
   "cell_type": "code",
   "execution_count": 236,
   "metadata": {},
   "outputs": [
    {
     "data": {
      "text/plain": [
       "(2745, 643, 3415, 1000)"
      ]
     },
     "execution_count": 236,
     "metadata": {},
     "output_type": "execute_result"
    }
   ],
   "source": [
    "num_u = ui['u'].nunique()\n",
    "num_b = bi['b'].nunique()\n",
    "num_i = bi['i'].nunique()\n",
    "num_iu = ui['i'].nunique()\n",
    "\n",
    "num_b, num_i, num_iu, num_u"
   ]
  },
  {
   "cell_type": "code",
   "execution_count": 237,
   "metadata": {},
   "outputs": [
    {
     "data": {
      "text/plain": [
       "array([[   0,  164],\n",
       "       [   0,  746],\n",
       "       [   0, 1068],\n",
       "       ...,\n",
       "       [2744, 2105],\n",
       "       [2744, 2253],\n",
       "       [2744, 2872]])"
      ]
     },
     "execution_count": 237,
     "metadata": {},
     "output_type": "execute_result"
    }
   ],
   "source": [
    "bi_idx = bi.to_numpy()\n",
    "bi_idx"
   ]
  },
  {
   "cell_type": "code",
   "execution_count": 238,
   "metadata": {},
   "outputs": [
    {
     "data": {
      "text/plain": [
       "(0, 1)"
      ]
     },
     "execution_count": 238,
     "metadata": {},
     "output_type": "execute_result"
    }
   ],
   "source": [
    "min(bi_idx[:, 0]), min(bi_idx[:, 1])"
   ]
  },
  {
   "cell_type": "code",
   "execution_count": 239,
   "metadata": {},
   "outputs": [],
   "source": [
    "bi_graph = torch.sparse_coo_tensor(\n",
    "    indices=torch.tensor([bi_idx[:, 0], bi_idx[:, 1]]),\n",
    "    values=np.ones(len(bi)),\n",
    "    size=(num_b, num_iu),\n",
    ")"
   ]
  },
  {
   "cell_type": "code",
   "execution_count": 240,
   "metadata": {},
   "outputs": [
    {
     "data": {
      "text/plain": [
       "torch.Size([2745, 3415])"
      ]
     },
     "execution_count": 240,
     "metadata": {},
     "output_type": "execute_result"
    }
   ],
   "source": [
    "bi_graph.shape"
   ]
  },
  {
   "cell_type": "code",
   "execution_count": 241,
   "metadata": {},
   "outputs": [],
   "source": [
    "intersect = bi_graph @ bi_graph.T\n",
    "mask = torch.eye(num_b)\n",
    "\n",
    "total_item = bi_graph.sum(dim=1)"
   ]
  },
  {
   "cell_type": "code",
   "execution_count": 242,
   "metadata": {},
   "outputs": [
    {
     "data": {
      "text/plain": [
       "tensor([ 7.,  9.,  7.,  ..., 10., 10.,  8.], dtype=torch.float64)"
      ]
     },
     "execution_count": 242,
     "metadata": {},
     "output_type": "execute_result"
    }
   ],
   "source": [
    "total_item = total_item.to_dense()\n",
    "total_item"
   ]
  },
  {
   "cell_type": "code",
   "execution_count": 243,
   "metadata": {},
   "outputs": [
    {
     "data": {
      "text/plain": [
       "tensor([[14., 16., 14.,  ..., 17., 17., 15.],\n",
       "        [16., 18., 16.,  ..., 19., 19., 17.],\n",
       "        [14., 16., 14.,  ..., 17., 17., 15.],\n",
       "        ...,\n",
       "        [17., 19., 17.,  ..., 20., 20., 18.],\n",
       "        [17., 19., 17.,  ..., 20., 20., 18.],\n",
       "        [15., 17., 15.,  ..., 18., 18., 16.]], dtype=torch.float64)"
      ]
     },
     "execution_count": 243,
     "metadata": {},
     "output_type": "execute_result"
    }
   ],
   "source": [
    "total_item_a = total_item.view(-1, 1)\n",
    "total_item_b = total_item.view(1, -1)\n",
    "\n",
    "total_overlap = total_item_a + total_item_b\n",
    "total_overlap"
   ]
  },
  {
   "cell_type": "code",
   "execution_count": 244,
   "metadata": {},
   "outputs": [
    {
     "data": {
      "text/plain": [
       "tensor(indices=tensor([[   0,    0,    0,  ..., 2744, 2744, 2744],\n",
       "                       [   0,    6,   10,  ..., 2734, 2739, 2744]]),\n",
       "       values=tensor([7., 2., 1.,  ..., 3., 2., 8.]),\n",
       "       size=(2745, 2745), nnz=1302853, dtype=torch.float64,\n",
       "       layout=torch.sparse_coo)"
      ]
     },
     "execution_count": 244,
     "metadata": {},
     "output_type": "execute_result"
    }
   ],
   "source": [
    "intersect"
   ]
  },
  {
   "cell_type": "code",
   "execution_count": 245,
   "metadata": {},
   "outputs": [],
   "source": [
    "inter_non_eye = intersect - intersect * mask\n",
    "total_overlap_non_eye = total_overlap - total_overlap * mask + mask"
   ]
  },
  {
   "cell_type": "code",
   "execution_count": 246,
   "metadata": {},
   "outputs": [
    {
     "data": {
      "text/plain": [
       "tensor(indices=tensor([[   0,    0,    0,  ..., 2744, 2744, 2744],\n",
       "                       [   0,    6,   10,  ..., 2734, 2739, 2744]]),\n",
       "       values=tensor([0., 2., 1.,  ..., 3., 2., 0.]),\n",
       "       size=(2745, 2745), nnz=1302853, dtype=torch.float64,\n",
       "       layout=torch.sparse_coo)"
      ]
     },
     "execution_count": 246,
     "metadata": {},
     "output_type": "execute_result"
    }
   ],
   "source": [
    "inter_non_eye"
   ]
  },
  {
   "cell_type": "code",
   "execution_count": 247,
   "metadata": {},
   "outputs": [
    {
     "data": {
      "text/plain": [
       "tensor([[ 1., 16., 14.,  ..., 17., 17., 15.],\n",
       "        [16.,  1., 16.,  ..., 19., 19., 17.],\n",
       "        [14., 16.,  1.,  ..., 17., 17., 15.],\n",
       "        ...,\n",
       "        [17., 19., 17.,  ...,  1., 20., 18.],\n",
       "        [17., 19., 17.,  ..., 20.,  1., 18.],\n",
       "        [15., 17., 15.,  ..., 18., 18.,  1.]], dtype=torch.float64)"
      ]
     },
     "execution_count": 247,
     "metadata": {},
     "output_type": "execute_result"
    }
   ],
   "source": [
    "total_overlap_non_eye"
   ]
  },
  {
   "cell_type": "code",
   "execution_count": 248,
   "metadata": {},
   "outputs": [],
   "source": [
    "total_not_overlap = total_overlap_non_eye - inter_non_eye"
   ]
  },
  {
   "cell_type": "code",
   "execution_count": 249,
   "metadata": {},
   "outputs": [
    {
     "data": {
      "text/plain": [
       "(tensor(indices=tensor([[ 164,  746, 1068, 1179, 1748, 2066, 2726]]),\n",
       "        values=tensor([1., 1., 1., 1., 1., 1., 1.]),\n",
       "        size=(3415,), nnz=7, dtype=torch.float64, layout=torch.sparse_coo),\n",
       " tensor(indices=tensor([[ 922, 1068, 1154, 1748, 2008]]),\n",
       "        values=tensor([1., 1., 1., 1., 1.]),\n",
       "        size=(3415,), nnz=5, dtype=torch.float64, layout=torch.sparse_coo),\n",
       " tensor(10., dtype=torch.float64))"
      ]
     },
     "execution_count": 249,
     "metadata": {},
     "output_type": "execute_result"
    }
   ],
   "source": [
    "bi_graph[0], bi_graph[6], total_not_overlap[0, 6] # overlap 2 item"
   ]
  },
  {
   "cell_type": "code",
   "execution_count": 250,
   "metadata": {},
   "outputs": [],
   "source": [
    "jaccard_pair_bundle = inter_non_eye.to_dense() / total_not_overlap"
   ]
  },
  {
   "cell_type": "code",
   "execution_count": 251,
   "metadata": {},
   "outputs": [
    {
     "data": {
      "text/plain": [
       "tensor([[   4,  152],\n",
       "        [   4,  558],\n",
       "        [   9, 1473],\n",
       "        ...,\n",
       "        [2723, 2543],\n",
       "        [2728,  653],\n",
       "        [2728, 1915]])"
      ]
     },
     "execution_count": 251,
     "metadata": {},
     "output_type": "execute_result"
    }
   ],
   "source": [
    "eli = (jaccard_pair_bundle >= 0.7).nonzero()\n",
    "eli"
   ]
  },
  {
   "cell_type": "code",
   "execution_count": 252,
   "metadata": {},
   "outputs": [
    {
     "data": {
      "text/plain": [
       "601"
      ]
     },
     "execution_count": 252,
     "metadata": {},
     "output_type": "execute_result"
    }
   ],
   "source": [
    "eli_unique = eli[:, 0].unique()\n",
    "len(eli_unique)"
   ]
  },
  {
   "cell_type": "code",
   "execution_count": 253,
   "metadata": {},
   "outputs": [
    {
     "data": {
      "text/plain": [
       "tensor([   4,    9,   17,   18,   22,   31,   33,   45,   53,   59,   62,   69,\n",
       "          72,   76,   79,   85,   93,   99,  100,  103,  106,  113,  114,  115,\n",
       "         118,  121,  122,  125,  126,  130,  132,  145,  146,  152,  153,  154,\n",
       "         159,  163,  174,  179,  180,  181,  184,  195,  201,  209,  218,  223,\n",
       "         225,  226,  232,  234,  236,  238,  243,  244,  247,  249,  252,  253,\n",
       "         260,  266,  267,  268,  269,  285,  297,  299,  304,  310,  318,  320,\n",
       "         323,  325,  328,  329,  331,  336,  346,  349,  352,  354,  361,  367,\n",
       "         369,  372,  377,  378,  379,  381,  387,  389,  391,  392,  401,  405,\n",
       "         419,  424,  443,  452,  460,  476,  482,  485,  492,  493,  497,  505,\n",
       "         517,  527,  528,  529,  532,  541,  544,  551,  558,  563,  565,  573,\n",
       "         577,  584,  592,  593,  594,  597,  602,  603,  604,  606,  609,  617,\n",
       "         619,  621,  624,  628,  634,  639,  641,  647,  649,  653,  660,  663,\n",
       "         674,  676,  680,  683,  684,  687,  690,  691,  692,  695,  698,  700,\n",
       "         702,  704,  710,  712,  715,  717,  718,  719,  723,  726,  729,  732,\n",
       "         736,  738,  740,  744,  751,  756,  769,  772,  775,  783,  793,  807,\n",
       "         810,  819,  825,  827,  831,  832,  838,  850,  851,  854,  858,  860,\n",
       "         861,  864,  865,  869,  872,  874,  876,  879,  883,  884,  887,  889,\n",
       "         890,  891,  893,  897,  898,  900,  901,  902,  904,  912,  916,  918,\n",
       "         920,  921,  922,  934,  942,  949,  951,  956,  967,  973,  982,  996,\n",
       "         999, 1008, 1014, 1015, 1021, 1025, 1039, 1041, 1050, 1051, 1058, 1060,\n",
       "        1061, 1068, 1071, 1075, 1079, 1080, 1081, 1084, 1086, 1088, 1089, 1091,\n",
       "        1092, 1096, 1108, 1110, 1122, 1128, 1130, 1140, 1159, 1160, 1161, 1170,\n",
       "        1173, 1177, 1186, 1191, 1195, 1200, 1204, 1206, 1207, 1209, 1212, 1214,\n",
       "        1231, 1240, 1241, 1242, 1247, 1250, 1257, 1261, 1262, 1267, 1272, 1279,\n",
       "        1281, 1282, 1286, 1290, 1300, 1315, 1320, 1323, 1325, 1329, 1334, 1335,\n",
       "        1338, 1340, 1341, 1342, 1343, 1344, 1355, 1356, 1359, 1360, 1361, 1371,\n",
       "        1372, 1375, 1384, 1385, 1387, 1393, 1400, 1404, 1407, 1412, 1415, 1417,\n",
       "        1421, 1423, 1425, 1431, 1435, 1437, 1441, 1446, 1451, 1455, 1459, 1461,\n",
       "        1463, 1470, 1472, 1473, 1476, 1477, 1479, 1493, 1501, 1502, 1516, 1517,\n",
       "        1524, 1526, 1529, 1537, 1539, 1543, 1550, 1552, 1558, 1561, 1564, 1566,\n",
       "        1567, 1568, 1572, 1576, 1577, 1578, 1581, 1584, 1586, 1588, 1589, 1598,\n",
       "        1601, 1603, 1604, 1608, 1613, 1618, 1619, 1624, 1625, 1632, 1636, 1640,\n",
       "        1648, 1651, 1653, 1654, 1660, 1665, 1667, 1675, 1676, 1685, 1689, 1693,\n",
       "        1710, 1714, 1730, 1736, 1737, 1743, 1748, 1749, 1757, 1763, 1764, 1774,\n",
       "        1775, 1779, 1780, 1784, 1786, 1791, 1800, 1801, 1802, 1804, 1805, 1806,\n",
       "        1814, 1816, 1818, 1819, 1820, 1824, 1828, 1839, 1845, 1846, 1850, 1856,\n",
       "        1860, 1863, 1864, 1865, 1866, 1867, 1874, 1875, 1877, 1885, 1892, 1900,\n",
       "        1903, 1912, 1913, 1915, 1918, 1920, 1921, 1928, 1929, 1934, 1938, 1955,\n",
       "        1963, 1969, 1970, 1972, 1973, 1974, 1983, 1985, 1989, 1997, 2001, 2005,\n",
       "        2010, 2014, 2015, 2016, 2017, 2018, 2029, 2031, 2036, 2038, 2049, 2056,\n",
       "        2064, 2067, 2069, 2071, 2078, 2082, 2083, 2086, 2090, 2091, 2100, 2111,\n",
       "        2112, 2114, 2115, 2122, 2125, 2132, 2136, 2137, 2151, 2164, 2169, 2170,\n",
       "        2174, 2190, 2196, 2198, 2213, 2223, 2229, 2236, 2237, 2241, 2249, 2252,\n",
       "        2254, 2256, 2257, 2261, 2263, 2270, 2284, 2307, 2309, 2316, 2319, 2326,\n",
       "        2330, 2332, 2333, 2334, 2347, 2355, 2359, 2367, 2369, 2386, 2389, 2403,\n",
       "        2404, 2411, 2413, 2427, 2431, 2434, 2443, 2448, 2449, 2465, 2471, 2477,\n",
       "        2507, 2514, 2515, 2516, 2518, 2520, 2521, 2524, 2532, 2535, 2539, 2543,\n",
       "        2547, 2559, 2563, 2569, 2576, 2577, 2578, 2584, 2587, 2589, 2591, 2598,\n",
       "        2600, 2607, 2615, 2617, 2618, 2623, 2624, 2636, 2648, 2652, 2661, 2667,\n",
       "        2669, 2673, 2680, 2685, 2699, 2702, 2704, 2706, 2708, 2712, 2714, 2723,\n",
       "        2728])"
      ]
     },
     "execution_count": 253,
     "metadata": {},
     "output_type": "execute_result"
    }
   ],
   "source": [
    "eli_unique"
   ]
  },
  {
   "cell_type": "code",
   "execution_count": 254,
   "metadata": {},
   "outputs": [
    {
     "data": {
      "text/plain": [
       "(tensor(indices=tensor([[ 266,  458,  996, 1378, 3122, 3373]]),\n",
       "        values=tensor([1., 1., 1., 1., 1., 1.]),\n",
       "        size=(3415,), nnz=6, dtype=torch.float64, layout=torch.sparse_coo),\n",
       " tensor(indices=tensor([[ 266,  458,  996, 1007, 1378, 1379, 3122, 3373]]),\n",
       "        values=tensor([1., 1., 1., 1., 1., 1., 1., 1.]),\n",
       "        size=(3415,), nnz=8, dtype=torch.float64, layout=torch.sparse_coo))"
      ]
     },
     "execution_count": 254,
     "metadata": {},
     "output_type": "execute_result"
    }
   ],
   "source": [
    "bi_graph[4], bi_graph[152]"
   ]
  },
  {
   "cell_type": "code",
   "execution_count": 255,
   "metadata": {},
   "outputs": [],
   "source": [
    "ub = pd.concat([ub_train, ub_test, ub_valid])"
   ]
  },
  {
   "cell_type": "code",
   "execution_count": 263,
   "metadata": {},
   "outputs": [],
   "source": [
    "bi_fil = bi[~bi['b'].isin(eli_unique.tolist())]\n",
    "ub_train_fil = ub_train[~ub_train['b'].isin(eli_unique.tolist())]\n",
    "ub_test_fil = ub_test[~ub_test['b'].isin(eli_unique.tolist())]\n",
    "ub_valid_fil = ub_valid[~ub_valid['b'].isin(eli_unique.tolist())]"
   ]
  },
  {
   "cell_type": "code",
   "execution_count": 264,
   "metadata": {},
   "outputs": [
    {
     "data": {
      "text/html": [
       "<div>\n",
       "<style scoped>\n",
       "    .dataframe tbody tr th:only-of-type {\n",
       "        vertical-align: middle;\n",
       "    }\n",
       "\n",
       "    .dataframe tbody tr th {\n",
       "        vertical-align: top;\n",
       "    }\n",
       "\n",
       "    .dataframe thead th {\n",
       "        text-align: right;\n",
       "    }\n",
       "</style>\n",
       "<table border=\"1\" class=\"dataframe\">\n",
       "  <thead>\n",
       "    <tr style=\"text-align: right;\">\n",
       "      <th></th>\n",
       "      <th>b</th>\n",
       "      <th>i</th>\n",
       "    </tr>\n",
       "  </thead>\n",
       "  <tbody>\n",
       "    <tr>\n",
       "      <th>0</th>\n",
       "      <td>0</td>\n",
       "      <td>164</td>\n",
       "    </tr>\n",
       "    <tr>\n",
       "      <th>1</th>\n",
       "      <td>0</td>\n",
       "      <td>746</td>\n",
       "    </tr>\n",
       "    <tr>\n",
       "      <th>2</th>\n",
       "      <td>0</td>\n",
       "      <td>1068</td>\n",
       "    </tr>\n",
       "    <tr>\n",
       "      <th>3</th>\n",
       "      <td>0</td>\n",
       "      <td>1179</td>\n",
       "    </tr>\n",
       "    <tr>\n",
       "      <th>4</th>\n",
       "      <td>0</td>\n",
       "      <td>1748</td>\n",
       "    </tr>\n",
       "    <tr>\n",
       "      <th>...</th>\n",
       "      <td>...</td>\n",
       "      <td>...</td>\n",
       "    </tr>\n",
       "    <tr>\n",
       "      <th>20509</th>\n",
       "      <td>2744</td>\n",
       "      <td>1097</td>\n",
       "    </tr>\n",
       "    <tr>\n",
       "      <th>20510</th>\n",
       "      <td>2744</td>\n",
       "      <td>2043</td>\n",
       "    </tr>\n",
       "    <tr>\n",
       "      <th>20511</th>\n",
       "      <td>2744</td>\n",
       "      <td>2105</td>\n",
       "    </tr>\n",
       "    <tr>\n",
       "      <th>20512</th>\n",
       "      <td>2744</td>\n",
       "      <td>2253</td>\n",
       "    </tr>\n",
       "    <tr>\n",
       "      <th>20513</th>\n",
       "      <td>2744</td>\n",
       "      <td>2872</td>\n",
       "    </tr>\n",
       "  </tbody>\n",
       "</table>\n",
       "<p>16366 rows × 2 columns</p>\n",
       "</div>"
      ],
      "text/plain": [
       "          b     i\n",
       "0         0   164\n",
       "1         0   746\n",
       "2         0  1068\n",
       "3         0  1179\n",
       "4         0  1748\n",
       "...     ...   ...\n",
       "20509  2744  1097\n",
       "20510  2744  2043\n",
       "20511  2744  2105\n",
       "20512  2744  2253\n",
       "20513  2744  2872\n",
       "\n",
       "[16366 rows x 2 columns]"
      ]
     },
     "execution_count": 264,
     "metadata": {},
     "output_type": "execute_result"
    }
   ],
   "source": [
    "bi_fil"
   ]
  },
  {
   "cell_type": "code",
   "execution_count": 265,
   "metadata": {},
   "outputs": [],
   "source": [
    "ub_all  = pd.concat([ub_train_fil, ub_test_fil, ub_valid_fil])\n",
    "ub_all = ub_all.sample(frac=1)"
   ]
  },
  {
   "cell_type": "code",
   "execution_count": 266,
   "metadata": {},
   "outputs": [],
   "source": [
    "train_idx = int(len(ub_all) * 0.7)\n",
    "valid_idx = int(len(ub_all) * 0.8)\n",
    "\n",
    "\n",
    "ub_train_fil = ub_all[:train_idx]\n",
    "ub_valid_fil = ub_all[train_idx:valid_idx]\n",
    "ub_test_fil = ub_all[valid_idx:]"
   ]
  },
  {
   "cell_type": "code",
   "execution_count": 267,
   "metadata": {},
   "outputs": [
    {
     "data": {
      "text/plain": [
       "(1502, 430, 215, 16366)"
      ]
     },
     "execution_count": 267,
     "metadata": {},
     "output_type": "execute_result"
    }
   ],
   "source": [
    "len(ub_train_fil), len(ub_test_fil), len(ub_valid_fil), len(bi_fil)"
   ]
  },
  {
   "cell_type": "code",
   "execution_count": 268,
   "metadata": {},
   "outputs": [],
   "source": [
    "ub_train_fil.to_csv(\"user_bundle_train.txt\", sep=\"\\t\", index=False, header=False)\n",
    "ub_test_fil.to_csv(\"user_bundle_test.txt\", sep=\"\\t\", index=False, header=False)\n",
    "ub_valid_fil.to_csv(\"user_bundle_valid.txt\", sep=\"\\t\", index=False, header=False)\n",
    "bi_fil.to_csv(\"bundle_item.txt\", sep=\"\\t\", index=False, header=False)"
   ]
  }
 ],
 "metadata": {
  "kernelspec": {
   "display_name": "base",
   "language": "python",
   "name": "python3"
  },
  "language_info": {
   "codemirror_mode": {
    "name": "ipython",
    "version": 3
   },
   "file_extension": ".py",
   "mimetype": "text/x-python",
   "name": "python",
   "nbconvert_exporter": "python",
   "pygments_lexer": "ipython3",
   "version": "3.11.5"
  }
 },
 "nbformat": 4,
 "nbformat_minor": 2
}
