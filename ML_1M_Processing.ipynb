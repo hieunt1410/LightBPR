{
  "cells": [
    {
      "cell_type": "code",
      "source": [
        "from google.colab import drive\n",
        "drive.mount('/content/drive')"
      ],
      "metadata": {
        "colab": {
          "base_uri": "https://localhost:8080/"
        },
        "id": "ecierfpNTA4V",
        "outputId": "248b641a-5c71-401b-e8d5-5df1d4c8e9e1"
      },
      "execution_count": 1,
      "outputs": [
        {
          "output_type": "stream",
          "name": "stdout",
          "text": [
            "Mounted at /content/drive\n"
          ]
        }
      ]
    },
    {
      "cell_type": "code",
      "execution_count": 2,
      "metadata": {
        "id": "USRyBbGaCDMJ"
      },
      "outputs": [],
      "source": [
        "import pandas as pd\n",
        "from datetime import datetime\n",
        "import numpy as np\n",
        "from tqdm import tqdm\n",
        "import matplotlib.pyplot as plt\n",
        "import seaborn as sns\n",
        "from sklearn.preprocessing import LabelEncoder"
      ]
    },
    {
      "cell_type": "code",
      "execution_count": 3,
      "metadata": {
        "id": "04Otl_E0CTZN"
      },
      "outputs": [],
      "source": [
        "users = pd.read_csv('/content/drive/MyDrive/ml-1m/users.dat', sep='::',engine='python',\n",
        "                        names=['userid', 'gender', 'age', 'occupation', 'zip'])\n",
        "\n",
        "ratings = pd.read_csv('/content/drive/MyDrive/ml-1m/ratings.dat', engine='python',\n",
        "                          sep='::', names=['userid', 'movieid', 'rating', 'timestamp'])\n",
        "\n",
        "movies = pd.read_csv('/content/drive/MyDrive/ml-1m/movies.dat', engine='python',\n",
        "                         sep='::', names=['movieid', 'title', 'genre'], encoding='latin-1', index_col=False)"
      ]
    },
    {
      "cell_type": "code",
      "execution_count": 4,
      "metadata": {
        "id": "6BzzyC_nDgdr"
      },
      "outputs": [],
      "source": [
        "mintime = min(ratings.timestamp)\n",
        "maxtime = max(ratings.timestamp)"
      ]
    },
    {
      "cell_type": "code",
      "execution_count": 5,
      "metadata": {
        "id": "gnWjlFgyJiHi"
      },
      "outputs": [],
      "source": [
        "movies_list = [movie for movie in ratings.movieid.unique() if len(ratings[ratings.movieid == movie].userid.unique()) >= 5]\n",
        "ratings = ratings[ratings.movieid.isin(movies_list)]\n",
        "\n",
        "top_users = ratings.userid.value_counts().nlargest(1000)\n",
        "ratings = ratings[ratings.userid.isin(top_users.index)]"
      ]
    },
    {
      "cell_type": "code",
      "source": [
        "le_user = le_item = LabelEncoder()\n",
        "le_user.fit(ratings.userid.to_numpy())\n",
        "ratings.userid = le_user.transform(ratings.userid)\n",
        "\n",
        "le_item.fit(ratings.movieid.to_numpy())\n",
        "ratings.movieid = le_item.transform(ratings.movieid)"
      ],
      "metadata": {
        "id": "CX2CvoA0eDDo"
      },
      "execution_count": 6,
      "outputs": []
    },
    {
      "cell_type": "code",
      "source": [
        "ratings['fav'] = ratings.rating.apply(\n",
        "    lambda x: 1 if x > 3 else 0\n",
        ")"
      ],
      "metadata": {
        "id": "_2P_YTpyVN9g"
      },
      "execution_count": 7,
      "outputs": []
    },
    {
      "cell_type": "code",
      "execution_count": 8,
      "metadata": {
        "colab": {
          "base_uri": "https://localhost:8080/"
        },
        "id": "ovLVi2fcDyws",
        "outputId": "9c362f5a-3962-4627-efd5-41786731bd94"
      },
      "outputs": [
        {
          "output_type": "stream",
          "name": "stderr",
          "text": [
            "100%|██████████| 1000/1000 [00:01<00:00, 694.61it/s]\n"
          ]
        }
      ],
      "source": [
        "user_list = ratings.userid.unique()\n",
        "ui = {}\n",
        "\n",
        "with open('user_item.txt', 'w') as f:\n",
        "  for user in tqdm(user_list):\n",
        "    movie_list = ratings[(ratings.userid == user)].movieid.unique()\n",
        "    ui[user] = movie_list\n",
        "    for movie in movie_list:\n",
        "      f.write(f'{user}\\t{movie}\\n')"
      ]
    },
    {
      "cell_type": "code",
      "execution_count": 10,
      "metadata": {
        "id": "aHKVXA3fE5th"
      },
      "outputs": [],
      "source": [
        "mintime = min(ratings.timestamp)\n",
        "maxtime = max(ratings.timestamp)\n",
        "ratings['timestamp_norm'] = ratings.timestamp.apply(\n",
        "    lambda x: x - mintime\n",
        ")"
      ]
    },
    {
      "cell_type": "code",
      "execution_count": null,
      "metadata": {
        "id": "4jYBw-txGKVH"
      },
      "outputs": [],
      "source": [
        "year_time = 365 * 24 * 60 * 60\n",
        "month_time = 30 * 24 * 60 * 60\n",
        "week_time = 7 * 24 * 60 * 60\n",
        "three_day = 3 * 24 * 60 * 60\n",
        "one_day = 24 * 60 * 60\n",
        "\n",
        "ratings['year'] = ratings.timestamp_norm.apply(\n",
        "    lambda x: int(x/year_time) + 1\n",
        ")\n",
        "ratings['month'] = ratings.timestamp_norm.apply(\n",
        "    lambda x: int(x/month_time) + 1\n",
        ")\n",
        "ratings['week'] = ratings.timestamp_norm.apply(\n",
        "    lambda x: int(x/week_time) + 1\n",
        ")\n",
        "ratings['three_days'] = ratings.timestamp_norm.apply(\n",
        "    lambda x: int(x/three_day) + 1\n",
        ")\n",
        "ratings['one_day'] = ratings.timestamp_norm.apply(\n",
        "    lambda x: int(x/one_day) + 1\n",
        ")"
      ]
    },
    {
      "cell_type": "code",
      "source": [
        "movies.genre = movies.genre.apply(\n",
        "    lambda x: x.split('|')\n",
        ")\n",
        "\n",
        "genres = set()\n",
        "for genre_list in movies['genre']:\n",
        "    genres.update(genre_list)\n",
        "\n",
        "for genre in genres:\n",
        "    movies[genre] = 0\n",
        "\n",
        "for index, row in movies.iterrows():\n",
        "    for genre in row['genre']:\n",
        "        movies.at[index, genre] = 1\n",
        "    for genre in genres:\n",
        "        if genre not in row['genre']:\n",
        "            movies.at[index, genre] = 0\n",
        "\n",
        "# movies = movies.drop(columns=['genre'])\n",
        "ratings = pd.merge(ratings, movies, how='left', left_on='movieid', right_on='movieid')"
      ],
      "metadata": {
        "id": "uvc-SEHhZaxV"
      },
      "execution_count": null,
      "outputs": []
    },
    {
      "cell_type": "code",
      "source": [
        "ratings"
      ],
      "metadata": {
        "colab": {
          "base_uri": "https://localhost:8080/",
          "height": 146
        },
        "id": "K0QyW9AoAFRi",
        "outputId": "db503f7a-9489-436e-bdae-b67af8d6a752"
      },
      "execution_count": 1,
      "outputs": [
        {
          "output_type": "error",
          "ename": "NameError",
          "evalue": "name 'ratings' is not defined",
          "traceback": [
            "\u001b[0;31m---------------------------------------------------------------------------\u001b[0m",
            "\u001b[0;31mNameError\u001b[0m                                 Traceback (most recent call last)",
            "\u001b[0;32m<ipython-input-1-0f451246ac4e>\u001b[0m in \u001b[0;36m<cell line: 1>\u001b[0;34m()\u001b[0m\n\u001b[0;32m----> 1\u001b[0;31m \u001b[0mratings\u001b[0m\u001b[0;34m\u001b[0m\u001b[0;34m\u001b[0m\u001b[0m\n\u001b[0m",
            "\u001b[0;31mNameError\u001b[0m: name 'ratings' is not defined"
          ]
        }
      ]
    },
    {
      "cell_type": "code",
      "execution_count": 10,
      "metadata": {
        "colab": {
          "base_uri": "https://localhost:8080/",
          "height": 237
        },
        "id": "Okv_xxU8Ksss",
        "outputId": "6eb5261a-b52b-494c-ddeb-d1255057fa1a"
      },
      "outputs": [
        {
          "output_type": "stream",
          "name": "stderr",
          "text": [
            "  0%|          | 1/1000 [00:00<00:24, 41.53it/s]\n"
          ]
        },
        {
          "output_type": "error",
          "ename": "KeyError",
          "evalue": "(3186, 3204, 3230, 3269)",
          "traceback": [
            "\u001b[0;31m---------------------------------------------------------------------------\u001b[0m",
            "\u001b[0;31mKeyError\u001b[0m                                  Traceback (most recent call last)",
            "\u001b[0;32m<ipython-input-10-ce6bb1fb4098>\u001b[0m in \u001b[0;36m<cell line: 14>\u001b[0;34m()\u001b[0m\n\u001b[1;32m     44\u001b[0m     \u001b[0;31m# if len(bundles) >= 1:\u001b[0m\u001b[0;34m\u001b[0m\u001b[0;34m\u001b[0m\u001b[0m\n\u001b[1;32m     45\u001b[0m     \u001b[0;32mfor\u001b[0m \u001b[0mbundle\u001b[0m \u001b[0;32min\u001b[0m \u001b[0mbundles\u001b[0m\u001b[0;34m[\u001b[0m\u001b[0;34m:\u001b[0m\u001b[0mint\u001b[0m\u001b[0;34m(\u001b[0m\u001b[0;36m0.6\u001b[0m\u001b[0;34m*\u001b[0m\u001b[0mlen\u001b[0m\u001b[0;34m(\u001b[0m\u001b[0mbundles\u001b[0m\u001b[0;34m)\u001b[0m\u001b[0;34m)\u001b[0m\u001b[0;34m]\u001b[0m\u001b[0;34m:\u001b[0m\u001b[0;34m\u001b[0m\u001b[0;34m\u001b[0m\u001b[0m\n\u001b[0;32m---> 46\u001b[0;31m       \u001b[0mf3\u001b[0m\u001b[0;34m.\u001b[0m\u001b[0mwrite\u001b[0m\u001b[0;34m(\u001b[0m\u001b[0;34mf'{user}\\t{bundle_dict[tuple(bundle)]}\\n'\u001b[0m\u001b[0;34m)\u001b[0m\u001b[0;34m\u001b[0m\u001b[0;34m\u001b[0m\u001b[0m\n\u001b[0m\u001b[1;32m     47\u001b[0m \u001b[0;34m\u001b[0m\u001b[0m\n\u001b[1;32m     48\u001b[0m     \u001b[0;32mfor\u001b[0m \u001b[0mbundle\u001b[0m \u001b[0;32min\u001b[0m \u001b[0mbundles\u001b[0m\u001b[0;34m[\u001b[0m\u001b[0mint\u001b[0m\u001b[0;34m(\u001b[0m\u001b[0;36m0.6\u001b[0m\u001b[0;34m*\u001b[0m\u001b[0mlen\u001b[0m\u001b[0;34m(\u001b[0m\u001b[0mbundles\u001b[0m\u001b[0;34m)\u001b[0m\u001b[0;34m)\u001b[0m\u001b[0;34m:\u001b[0m\u001b[0mint\u001b[0m\u001b[0;34m(\u001b[0m\u001b[0;36m0.8\u001b[0m\u001b[0;34m*\u001b[0m\u001b[0mlen\u001b[0m\u001b[0;34m(\u001b[0m\u001b[0mbundles\u001b[0m\u001b[0;34m)\u001b[0m\u001b[0;34m)\u001b[0m\u001b[0;34m]\u001b[0m\u001b[0;34m:\u001b[0m\u001b[0;34m\u001b[0m\u001b[0;34m\u001b[0m\u001b[0m\n",
            "\u001b[0;31mKeyError\u001b[0m: (3186, 3204, 3230, 3269)"
          ]
        }
      ],
      "source": [
        "import random\n",
        "bundle_dict = {}\n",
        "user_bundle = {}\n",
        "ub_visual = {}\n",
        "buns = {}\n",
        "random.seed(2024)\n",
        "\n",
        "# def hehe(a, b):\n",
        "#   for x in b:\n",
        "#     if x not in a:\n",
        "#       return False\n",
        "#   return True\n",
        "\n",
        "with open('bundle_item.txt', 'w') as f2, open('user_bundle_train.txt', 'w') as f3, open('user_bundle_tune.txt', 'w') as f4, open('user_bundle_test.txt', 'w') as f5:\n",
        "  for user in tqdm(user_list):\n",
        "    bundles = []\n",
        "    # for week in new_ratings[new_ratings.useridn == user].week.unique():\n",
        "    # for genre in genres:\n",
        "    # bundle = ratings[(ratings.userid == user) & (ratings[f'{genre}'] == 1)].movieid.unique()\n",
        "    bundle = ratings[(ratings.userid == user) & (ratings.fav == 1)].movieid.unique()\n",
        "    # for r in range(3, 6):\n",
        "    # bundle = movies[movies.rating == r].movieid.unique()\n",
        "    bundle.sort()\n",
        "    # bundle = tuple(bundle)\n",
        "\n",
        "    if len(bundle) >= 5 and len(bundle) <= 10:\n",
        "      bundle = tuple(bundle)\n",
        "      if bundle not in bundle_dict:\n",
        "        bundle_dict[bundle] = len(bundle_dict)\n",
        "        for item in bundle:\n",
        "          f2.write(f'{bundle_dict[bundle]}\\t{item}\\n')\n",
        "      bundles.append(bundle)\n",
        "    elif len(bundle) > 10:\n",
        "      for i in range(0, len(bundle), 10):\n",
        "        tmp_bun = tuple(bundle[i:i+10])\n",
        "        if len(tmp_bun) >= 5 and tmp_bun not in bundle_dict:\n",
        "          bundle_dict[tmp_bun] = len(bundle_dict)\n",
        "          for item in tmp_bun:\n",
        "            f2.write(f'{bundle_dict[tmp_bun]}\\t{item}\\n')\n",
        "        bundles.append(tmp_bun)\n",
        "\n",
        "    random.shuffle(bundles)\n",
        "    user_bundle[user] = bundles\n",
        "    # if len(bundles) >= 1:\n",
        "    for bundle in bundles[:int(0.6*len(bundles))]:\n",
        "      f3.write(f'{user}\\t{bundle_dict[tuple(bundle)]}\\n')\n",
        "\n",
        "    for bundle in bundles[int(0.6*len(bundles)):int(0.8*len(bundles))]:\n",
        "      f4.write(f'{user}\\t{bundle_dict[tuple(bundle)]}\\n')\n",
        "\n",
        "    for bundle in bundles[int(0.8*len(bundles)):]:\n",
        "      f5.write(f'{user}\\t{bundle_dict[tuple(bundle)]}\\n')"
      ]
    },
    {
      "cell_type": "code",
      "source": [
        "import random\n",
        "from tqdm import tqdm\n",
        "\n",
        "bundle_dict = {}\n",
        "user_bundle = {}\n",
        "random.seed(2024)\n",
        "\n",
        "with open('bundle_item.txt', 'w') as f2, \\\n",
        "        open('user_bundle_train.txt', 'w') as f3, \\\n",
        "        open('user_bundle_tune.txt', 'w') as f4, \\\n",
        "        open('user_bundle_test.txt', 'w') as f5:\n",
        "\n",
        "    for user in tqdm(user_list):\n",
        "        bundles = []\n",
        "\n",
        "        bundle = ratings[(ratings.userid == user) & (ratings.fav == 1)].movieid.unique()\n",
        "        bundle.sort()\n",
        "\n",
        "        if 5 <= len(bundle) <= 10:\n",
        "            bundle_tuple = tuple(bundle)\n",
        "            if bundle_tuple not in bundle_dict:\n",
        "                bundle_dict[bundle_tuple] = len(bundle_dict)\n",
        "                for item in bundle:\n",
        "                  f2.write(f'{bundle_dict[bundle]}\\t{item}\\n')\n",
        "            bundles.append(bundle_tuple)\n",
        "        elif 10 < len(bundle) < 150:\n",
        "            for i in range(0, len(bundle), 10):\n",
        "                tmp_bun = tuple(bundle[i:i+10])\n",
        "                if len(tmp_bun) >= 5 and tmp_bun not in bundle_dict:\n",
        "                    bundle_dict[tmp_bun] = len(bundle_dict)\n",
        "                    for item in tmp_bun:\n",
        "                      f2.write(f'{bundle_dict[tmp_bun]}\\t{item}\\n')\n",
        "                    bundles.append(tmp_bun)\n",
        "\n",
        "        random.shuffle(bundles)\n",
        "        user_bundle[user] = bundles\n",
        "\n",
        "        train_cutoff = int(0.6 * len(bundles))\n",
        "        tune_cutoff = int(0.8 * len(bundles))\n",
        "\n",
        "        for bundle in bundles[:train_cutoff]:\n",
        "            f3.write(f'{user}\\t{bundle_dict[bundle]}\\n')\n",
        "\n",
        "        for bundle in bundles[train_cutoff:tune_cutoff]:\n",
        "            f4.write(f'{user}\\t{bundle_dict[bundle]}\\n')\n",
        "\n",
        "        for bundle in bundles[tune_cutoff:]:\n",
        "            f5.write(f'{user}\\t{bundle_dict[bundle]}\\n')"
      ],
      "metadata": {
        "colab": {
          "base_uri": "https://localhost:8080/"
        },
        "id": "-F0IhiEgfIRf",
        "outputId": "b17853b8-41e7-4141-b752-bfd0d3856a5b"
      },
      "execution_count": 35,
      "outputs": [
        {
          "output_type": "stream",
          "name": "stderr",
          "text": [
            "100%|██████████| 1000/1000 [00:06<00:00, 159.41it/s]\n"
          ]
        }
      ]
    },
    {
      "cell_type": "code",
      "execution_count": 36,
      "metadata": {
        "id": "4Kz6CXlNa3ez",
        "colab": {
          "base_uri": "https://localhost:8080/"
        },
        "outputId": "a17b5424-d3ef-41a2-98e7-43de02a31cc2"
      },
      "outputs": [
        {
          "output_type": "execute_result",
          "data": {
            "text/plain": [
              "1463"
            ]
          },
          "metadata": {},
          "execution_count": 36
        }
      ],
      "source": [
        "len(bundle_dict)"
      ]
    },
    {
      "cell_type": "code",
      "source": [
        "len(movies_list)"
      ],
      "metadata": {
        "colab": {
          "base_uri": "https://localhost:8080/"
        },
        "id": "FyH2oSfm1sUp",
        "outputId": "4daf3031-01af-4867-f817-c77189dd17e7"
      },
      "execution_count": 37,
      "outputs": [
        {
          "output_type": "execute_result",
          "data": {
            "text/plain": [
              "3416"
            ]
          },
          "metadata": {},
          "execution_count": 37
        }
      ]
    },
    {
      "cell_type": "code",
      "source": [
        "# !mkdir data\n",
        "import numpy as np\n",
        "import pandas as pd\n",
        "import scipy.sparse as sp\n",
        "import torch\n",
        "from sklearn.preprocessing import LabelEncoder\n",
        "\n",
        "bi = pd.read_csv('bundle_item.txt', sep=\"\\t\", names=['b', 'i'])\n",
        "ui = pd.read_csv('user_item.txt', sep=\"\\t\", names=['u', 'i'])\n",
        "ub_train = pd.read_csv('user_bundle_train.txt', sep=\"\\t\", names=['u', 'b'])\n",
        "ub_test = pd.read_csv('user_bundle_test.txt', sep=\"\\t\", names=['u', 'b'])\n",
        "ub_valid = pd.read_csv('user_bundle_tune.txt', sep=\"\\t\", names=['u', 'b'])\n",
        "\n",
        "num_u = ui['u'].nunique()\n",
        "num_b = bi['b'].nunique()\n",
        "num_i = bi['i'].nunique()\n",
        "num_iu = ui['i'].nunique()\n",
        "bi_idx = bi.to_numpy()\n",
        "bi_graph = torch.sparse_coo_tensor(\n",
        "    indices=torch.tensor([bi_idx[:, 0], bi_idx[:, 1]]),\n",
        "    values=np.ones(len(bi)),\n",
        "    size=(num_b, num_iu),\n",
        ")\n",
        "intersect = bi_graph @ bi_graph.T\n",
        "mask = torch.eye(num_b)\n",
        "\n",
        "total_item = bi_graph.sum(dim=1)\n",
        "total_item = total_item.to_dense()\n",
        "total_item_a = total_item.view(-1, 1)\n",
        "total_item_b = total_item.view(1, -1)\n",
        "\n",
        "total_overlap = total_item_a + total_item_b\n",
        "inter_non_eye = intersect - intersect * mask\n",
        "total_overlap_non_eye = total_overlap - total_overlap * mask + mask\n",
        "total_not_overlap = total_overlap_non_eye - inter_non_eye\n",
        "jaccard_pair_bundle = inter_non_eye.to_dense() / total_not_overlap\n",
        "eli = (jaccard_pair_bundle >= 0.5).nonzero()\n",
        "eli_unique = eli[:, 0].unique()\n",
        "ub = pd.concat([ub_train, ub_test, ub_valid])\n",
        "bi_fil = bi[~bi['b'].isin(eli_unique.tolist())]\n",
        "ub_train_fil = ub_train[~ub_train['b'].isin(eli_unique.tolist())]\n",
        "ub_test_fil = ub_test[~ub_test['b'].isin(eli_unique.tolist())]\n",
        "ub_valid_fil = ub_valid[~ub_valid['b'].isin(eli_unique.tolist())]\n",
        "ub_all  = pd.concat([ub_train_fil, ub_test_fil, ub_valid_fil])\n",
        "ub_all = ub_all.sample(frac=1)\n",
        "train_idx = int(len(ub_all) * 0.7)\n",
        "valid_idx = int(len(ub_all) * 0.8)\n",
        "ub_train_fil = ub_all[:train_idx]\n",
        "ub_valid_fil = ub_all[train_idx:valid_idx]\n",
        "ub_test_fil = ub_all[valid_idx:]\n",
        "ub_train_fil.to_csv(\"data/user_bundle_train.txt\", sep=\"\\t\", index=False, header=False)\n",
        "ub_test_fil.to_csv(\"data/user_bundle_test.txt\", sep=\"\\t\", index=False, header=False)\n",
        "ub_valid_fil.to_csv(\"data/user_bundle_valid.txt\", sep=\"\\t\", index=False, header=False)\n",
        "bi_fil.to_csv(\"data/bundle_item.txt\", sep=\"\\t\", index=False, header=False)"
      ],
      "metadata": {
        "id": "hSKVLqwljl70"
      },
      "execution_count": 38,
      "outputs": []
    },
    {
      "cell_type": "code",
      "source": [
        "len(eli_unique)"
      ],
      "metadata": {
        "colab": {
          "base_uri": "https://localhost:8080/"
        },
        "id": "8in1-JZdmcla",
        "outputId": "847f9984-e71c-468a-8ef0-3bd2a46ef4bf"
      },
      "execution_count": 39,
      "outputs": [
        {
          "output_type": "execute_result",
          "data": {
            "text/plain": [
              "45"
            ]
          },
          "metadata": {},
          "execution_count": 39
        }
      ]
    },
    {
      "cell_type": "code",
      "source": [
        "import torch\n",
        "def get_jaccard(pred, grd):\n",
        "    # pred = pred.to(grd.device)\n",
        "    intersect = intersect = torch.matmul(pred, grd.T)\n",
        "    total_a = torch.sum(pred, dim=1).view(-1, 1)\n",
        "    total_b = torch.sum(grd, dim=1).view(1, -1)\n",
        "    total_overlap = total_a + total_b\n",
        "    total = total_overlap - intersect\n",
        "    cnt = pred.shape[0] - (grd.sum(dim=1) == 0).sum().item()\n",
        "\n",
        "    return torch.mean(intersect / total) / cnt\n",
        "\n",
        "a = torch.tensor([[1,0,1], [0,1,1]])\n",
        "b = torch.tensor([[1,1,0], [1,1,1]])\n",
        "get_jaccard(a, b)"
      ],
      "metadata": {
        "colab": {
          "base_uri": "https://localhost:8080/"
        },
        "id": "iAP3YgJLrztG",
        "outputId": "1e9df3a1-d9e2-4a4b-8d63-3cbbd12501bc"
      },
      "execution_count": 42,
      "outputs": [
        {
          "output_type": "execute_result",
          "data": {
            "text/plain": [
              "tensor(0.2500)"
            ]
          },
          "metadata": {},
          "execution_count": 42
        }
      ]
    },
    {
      "cell_type": "code",
      "source": [
        "ui_ = {item: 0 for item in ratings.movieidn.unique()}\n",
        "for item in ratings.movieidn.unique():\n",
        "  for user in user_list:\n",
        "    if item in ui[user]:\n",
        "      ui_[item] += 1\n",
        "\n",
        "plt.figure(figsize=(18, 10))\n",
        "plt.bar(ui_.keys(), ui_.values())\n",
        "plt.xlabel('Number of interactions of a movie')\n",
        "plt.ylabel('Number of movies')\n",
        "plt.show()"
      ],
      "metadata": {
        "colab": {
          "base_uri": "https://localhost:8080/",
          "height": 813
        },
        "id": "9lBxWHhcvThd",
        "outputId": "11d6f575-d74f-4e21-8861-6e189c9264c9"
      },
      "execution_count": null,
      "outputs": [
        {
          "output_type": "display_data",
          "data": {
            "text/plain": [
              "<Figure size 1800x1000 with 1 Axes>"
            ],
            "image/png": "[encoded data removed]"
          },
          "metadata": {}
        }
      ]
    },
    {
      "cell_type": "code",
      "source": [
        "min(ui_.values())"
      ],
      "metadata": {
        "colab": {
          "base_uri": "https://localhost:8080/"
        },
        "id": "TKfhwnu-EX7m",
        "outputId": "88eb6760-4a1e-420e-a4c7-747e82ec519f"
      },
      "execution_count": null,
      "outputs": [
        {
          "output_type": "execute_result",
          "data": {
            "text/plain": [
              "2"
            ]
          },
          "metadata": {},
          "execution_count": 19
        }
      ]
    },
    {
      "cell_type": "code",
      "execution_count": null,
      "metadata": {
        "id": "i6k24qAxEs-0"
      },
      "outputs": [],
      "source": [
        "ui_dict = {}\n",
        "for user, item in ui.items():\n",
        "  if len(item) not in ui_dict:\n",
        "    ui_dict[len(item)] = 0\n",
        "  else:\n",
        "    ui_dict[len(item)] += 1\n",
        "\n",
        "plt.figure(figsize=(18, 10))\n",
        "plt.bar(ui_dict.keys(), ui_dict.values())\n",
        "plt.xlabel('Number of movies that an user watched')\n",
        "plt.ylabel('Number of users')\n",
        "plt.show()"
      ]
    },
    {
      "cell_type": "code",
      "execution_count": null,
      "metadata": {
        "id": "BVSnjeCqRiWv"
      },
      "outputs": [],
      "source": [
        "bi_dict = {}\n",
        "\n",
        "for b, idx in bundle_dict.items():\n",
        "  if len(b) not in bi_dict:\n",
        "    bi_dict[len(b)] = 0\n",
        "  else:\n",
        "    bi_dict[len(b)] += 1\n",
        "\n",
        "plt.figure(figsize=(18, 10))\n",
        "plt.bar(bi_dict.keys(), bi_dict.values())\n",
        "plt.xlabel('Number of items in a bundle')\n",
        "plt.ylabel('Number of bundles')\n",
        "plt.show()"
      ]
    },
    {
      "cell_type": "code",
      "execution_count": null,
      "metadata": {
        "id": "CXeNck6jvBAu"
      },
      "outputs": [],
      "source": [
        "ub_dict = {}\n",
        "for u, b in user_bundle.items():\n",
        "  if len(b) not in ub_dict:\n",
        "    ub_dict[len(b)] = 1\n",
        "  else:\n",
        "    ub_dict[len(b)] += 1\n",
        "\n",
        "plt.figure(figsize=(18, 10))\n",
        "plt.bar(ub_dict.keys(), ub_dict.values())\n",
        "plt.xlabel('Number of bundles an user watched')\n",
        "plt.ylabel('Number of users')\n",
        "plt.show()"
      ]
    },
    {
      "cell_type": "code",
      "execution_count": null,
      "metadata": {
        "id": "UD3bU1kNVGN_"
      },
      "outputs": [],
      "source": [
        "bu_dict = {}\n",
        "\n",
        "for b, idx in bundle_dict.items():\n",
        "  for user in user_list:\n",
        "    if idx not in user_bundle[user]:\n",
        "      bu_dict[idx] = 1\n",
        "    else:\n",
        "      bu_dict[idx] += 1\n",
        "\n",
        "bun_interact = {}\n",
        "for bun, cnt in bu_dict.items():\n",
        "  if cnt not in bun_interact:\n",
        "    bun_interact[cnt] = 1\n",
        "  else:\n",
        "    bun_interact[cnt] += 1\n",
        "\n",
        "plt.figure(figsize=(18, 10))\n",
        "plt.bar(bun_interact.keys(), bun_interact.values())\n",
        "plt.xlabel('Number of times a bundle has been watched')\n",
        "plt.ylabel('Number of bundles')\n",
        "plt.show()"
      ]
    },
    {
      "cell_type": "code",
      "execution_count": null,
      "metadata": {
        "colab": {
          "base_uri": "https://localhost:8080/"
        },
        "id": "dB-dN39Q0nxX",
        "outputId": "cfc6296a-688b-4d14-f533-ee74ef429c54"
      },
      "outputs": [
        {
          "output_type": "execute_result",
          "data": {
            "text/plain": [
              "{1: 8275}"
            ]
          },
          "metadata": {},
          "execution_count": 26
        }
      ],
      "source": [
        "bun_interact"
      ]
    },
    {
      "cell_type": "code",
      "execution_count": null,
      "metadata": {
        "colab": {
          "base_uri": "https://localhost:8080/"
        },
        "id": "Nfj_xNHYNDNS",
        "outputId": "869ae9d3-a369-4907-9f3b-bbe994fc6504"
      },
      "outputs": [
        {
          "name": "stderr",
          "output_type": "stream",
          "text": [
            "100%|██████████| 3883/3883 [00:02<00:00, 1456.79it/s]\n"
          ]
        }
      ],
      "source": [
        "# norm = movies.movieid_norm.unique()\n",
        "# with open('/content/drive/MyDrive/ml-1m/movieid_lookup.txt', 'w') as f:\n",
        "#   for id in tqdm(norm):\n",
        "#     f.write(f'{id}\\t{movies[movies.movieid_norm==id].movieid}\\n')\n"
      ]
    },
    {
      "cell_type": "code",
      "execution_count": null,
      "metadata": {
        "id": "9L3XUypcJG8O"
      },
      "outputs": [],
      "source": []
    }
  ],
  "metadata": {
    "colab": {
      "provenance": []
    },
    "kernelspec": {
      "display_name": "Python 3",
      "name": "python3"
    },
    "language_info": {
      "name": "python"
    }
  },
  "nbformat": 4,
  "nbformat_minor": 0
}