{
  "cells": [
    {
      "cell_type": "code",
      "execution_count": null,
      "metadata": {
        "colab": {
          "base_uri": "https://localhost:8080/"
        },
        "id": "ecierfpNTA4V",
        "outputId": "8fae9994-82a2-4d51-a1c7-dbdfd3a8280b"
      },
      "outputs": [
        {
          "output_type": "stream",
          "name": "stdout",
          "text": [
            "Mounted at /content/drive\n"
          ]
        }
      ],
      "source": [
        "from google.colab import drive\n",
        "drive.mount('/content/drive')"
      ]
    },
    {
      "cell_type": "code",
      "execution_count": null,
      "metadata": {
        "id": "USRyBbGaCDMJ"
      },
      "outputs": [],
      "source": [
        "import pandas as pd\n",
        "from datetime import datetime\n",
        "import numpy as np\n",
        "from tqdm import tqdm\n",
        "import matplotlib.pyplot as plt\n",
        "import seaborn as sns\n",
        "from sklearn.preprocessing import LabelEncoder"
      ]
    },
    {
      "cell_type": "code",
      "execution_count": null,
      "metadata": {
        "id": "04Otl_E0CTZN"
      },
      "outputs": [],
      "source": [
        "users = pd.read_csv('/content/drive/MyDrive/ml-1m/users.dat', sep='::',engine='python',\n",
        "                        names=['userid', 'gender', 'age', 'occupation', 'zip'])\n",
        "\n",
        "ratings = pd.read_csv('/content/drive/MyDrive/ml-1m/ratings.dat', engine='python',\n",
        "                          sep='::', names=['userid', 'movieid', 'rating', 'timestamp'])\n",
        "\n",
        "movies = pd.read_csv('/content/drive/MyDrive/ml-1m/movies.dat', engine='python',\n",
        "                         sep='::', names=['movieid', 'title', 'genre'], encoding='latin-1', index_col=False)"
      ]
    },
    {
      "cell_type": "code",
      "execution_count": null,
      "metadata": {
        "id": "6BzzyC_nDgdr"
      },
      "outputs": [],
      "source": [
        "mintime = min(ratings.timestamp)\n",
        "maxtime = max(ratings.timestamp)"
      ]
    },
    {
      "cell_type": "code",
      "execution_count": null,
      "metadata": {
        "id": "gnWjlFgyJiHi"
      },
      "outputs": [],
      "source": [
        "movies_list = [movie for movie in ratings.movieid.unique() if len(ratings[ratings.movieid == movie].userid.unique()) >= 5]\n",
        "ratings = ratings[ratings.movieid.isin(movies_list)]\n",
        "\n",
        "top_users = ratings.userid.value_counts().nlargest(1000)\n",
        "ratings = ratings[ratings.userid.isin(top_users.index)]"
      ]
    },
    {
      "cell_type": "code",
      "execution_count": null,
      "metadata": {
        "id": "CX2CvoA0eDDo"
      },
      "outputs": [],
      "source": [
        "le_user = le_item = LabelEncoder()\n",
        "le_user.fit(ratings.userid.to_numpy())\n",
        "ratings.userid = le_user.transform(ratings.userid)\n",
        "\n",
        "le_item.fit(ratings.movieid.to_numpy())\n",
        "ratings.movieid = le_item.transform(ratings.movieid)"
      ]
    },
    {
      "cell_type": "code",
      "execution_count": null,
      "metadata": {
        "id": "_2P_YTpyVN9g"
      },
      "outputs": [],
      "source": [
        "ratings['fav'] = ratings.rating.apply(\n",
        "    lambda x: 1 if x > 3 else 0\n",
        ")"
      ]
    },
    {
      "cell_type": "code",
      "execution_count": null,
      "metadata": {
        "colab": {
          "base_uri": "https://localhost:8080/"
        },
        "id": "ovLVi2fcDyws",
        "outputId": "2f1396f2-fa5b-43bd-be75-ceef8f7bbb29"
      },
      "outputs": [
        {
          "output_type": "stream",
          "name": "stderr",
          "text": [
            "100%|██████████| 1000/1000 [00:02<00:00, 476.01it/s]\n"
          ]
        }
      ],
      "source": [
        "user_list = ratings.userid.unique()\n",
        "ui = {}\n",
        "\n",
        "with open('user_item.txt', 'w') as f:\n",
        "  for user in tqdm(user_list):\n",
        "    movie_list = ratings[(ratings.userid == user)].movieid.unique()\n",
        "    ui[user] = movie_list\n",
        "    for movie in movie_list:\n",
        "      f.write(f'{user}\\t{movie}\\n')"
      ]
    },
    {
      "cell_type": "code",
      "execution_count": null,
      "metadata": {
        "id": "aHKVXA3fE5th"
      },
      "outputs": [],
      "source": [
        "# mintime = min(ratings.timestamp)\n",
        "# maxtime = max(ratings.timestamp)\n",
        "# ratings['timestamp_norm'] = ratings.timestamp.apply(\n",
        "#     lambda x: x - mintime\n",
        "# )"
      ]
    },
    {
      "cell_type": "code",
      "execution_count": null,
      "metadata": {
        "id": "4jYBw-txGKVH"
      },
      "outputs": [],
      "source": [
        "# year_time = 365 * 24 * 60 * 60\n",
        "# month_time = 30 * 24 * 60 * 60\n",
        "# week_time = 7 * 24 * 60 * 60\n",
        "# three_day = 3 * 24 * 60 * 60\n",
        "# one_day = 24 * 60 * 60\n",
        "\n",
        "# ratings['year'] = ratings.timestamp_norm.apply(\n",
        "#     lambda x: int(x/year_time) + 1\n",
        "# )\n",
        "# ratings['month'] = ratings.timestamp_norm.apply(\n",
        "#     lambda x: int(x/month_time) + 1\n",
        "# )\n",
        "# ratings['week'] = ratings.timestamp_norm.apply(\n",
        "#     lambda x: int(x/week_time) + 1\n",
        "# )\n",
        "# ratings['three_days'] = ratings.timestamp_norm.apply(\n",
        "#     lambda x: int(x/three_day) + 1\n",
        "# )\n",
        "# ratings['one_day'] = ratings.timestamp_norm.apply(\n",
        "#     lambda x: int(x/one_day) + 1\n",
        "# )"
      ]
    },
    {
      "cell_type": "code",
      "execution_count": null,
      "metadata": {
        "id": "uvc-SEHhZaxV"
      },
      "outputs": [],
      "source": [
        "movies.genre = movies.genre.apply(\n",
        "    lambda x: x.split('|')\n",
        ")\n",
        "\n",
        "genres = set()\n",
        "for genre_list in movies['genre']:\n",
        "    genres.update(genre_list)\n",
        "\n",
        "for genre in genres:\n",
        "    movies[genre] = 0\n",
        "\n",
        "for index, row in movies.iterrows():\n",
        "    for genre in row['genre']:\n",
        "        movies.at[index, genre] = 1\n",
        "    for genre in genres:\n",
        "        if genre not in row['genre']:\n",
        "            movies.at[index, genre] = 0\n",
        "\n",
        "# movies = movies.drop(columns=['genre'])\n",
        "ratings = pd.merge(ratings, movies, how='left', left_on='movieid', right_on='movieid')"
      ]
    },
    {
      "cell_type": "code",
      "execution_count": null,
      "metadata": {
        "colab": {
          "base_uri": "https://localhost:8080/",
          "height": 842
        },
        "id": "K0QyW9AoAFRi",
        "outputId": "da9becad-cd5b-4206-d1df-f4239756f6aa"
      },
      "outputs": [
        {
          "output_type": "execute_result",
          "data": {
            "text/plain": [
              "        userid  movieid  rating  timestamp  fav  \\\n",
              "0            0     2235       5  978228212    1   \n",
              "1            0      587       4  978224925    1   \n",
              "2            0     2240       3  978228408    0   \n",
              "3            0     2884       5  978226378    1   \n",
              "4            0     2885       3  978227125    0   \n",
              "...        ...      ...     ...        ...  ...   \n",
              "514956     999      919       1  956716541    0   \n",
              "514957     999      922       5  956704887    1   \n",
              "514958     999      524       5  956704746    1   \n",
              "514959     999      924       4  956715648    1   \n",
              "514960     999      925       4  956715569    1   \n",
              "\n",
              "                                                title  \\\n",
              "0                               One Man's Hero (1999)   \n",
              "1                                        Ghost (1990)   \n",
              "2                                 My Bodyguard (1980)   \n",
              "3                                     Dog Park (1998)   \n",
              "4                                    Guinevere (1999)   \n",
              "...                                               ...   \n",
              "514956                       Wizard of Oz, The (1939)   \n",
              "514957  Sunset Blvd. (a.k.a. Sunset Boulevard) (1950)   \n",
              "514958                                    Rudy (1993)   \n",
              "514959                   2001: A Space Odyssey (1968)   \n",
              "514960                         Golden Earrings (1947)   \n",
              "\n",
              "                                          genre  Romance  Sci-Fi  Animation  \\\n",
              "0                                  [Drama, War]      0.0     0.0        0.0   \n",
              "1                   [Comedy, Romance, Thriller]      1.0     0.0        0.0   \n",
              "2                                       [Drama]      0.0     0.0        0.0   \n",
              "3                             [Comedy, Romance]      1.0     0.0        0.0   \n",
              "4                              [Drama, Romance]      1.0     0.0        0.0   \n",
              "...                                         ...      ...     ...        ...   \n",
              "514956  [Adventure, Children's, Drama, Musical]      0.0     0.0        0.0   \n",
              "514957                              [Film-Noir]      0.0     0.0        0.0   \n",
              "514958                                  [Drama]      0.0     0.0        0.0   \n",
              "514959       [Drama, Mystery, Sci-Fi, Thriller]      0.0     1.0        0.0   \n",
              "514960                     [Adventure, Romance]      1.0     0.0        0.0   \n",
              "\n",
              "        ...  Musical  Mystery  Horror  Action  Crime  Documentary  War  \\\n",
              "0       ...      0.0      0.0     0.0     0.0    0.0          0.0  1.0   \n",
              "1       ...      0.0      0.0     0.0     0.0    0.0          0.0  0.0   \n",
              "2       ...      0.0      0.0     0.0     0.0    0.0          0.0  0.0   \n",
              "3       ...      0.0      0.0     0.0     0.0    0.0          0.0  0.0   \n",
              "4       ...      0.0      0.0     0.0     0.0    0.0          0.0  0.0   \n",
              "...     ...      ...      ...     ...     ...    ...          ...  ...   \n",
              "514956  ...      1.0      0.0     0.0     0.0    0.0          0.0  0.0   \n",
              "514957  ...      0.0      0.0     0.0     0.0    0.0          0.0  0.0   \n",
              "514958  ...      0.0      0.0     0.0     0.0    0.0          0.0  0.0   \n",
              "514959  ...      0.0      1.0     0.0     0.0    0.0          0.0  0.0   \n",
              "514960  ...      0.0      0.0     0.0     0.0    0.0          0.0  0.0   \n",
              "\n",
              "        Film-Noir  Western  Fantasy  \n",
              "0             0.0      0.0      0.0  \n",
              "1             0.0      0.0      0.0  \n",
              "2             0.0      0.0      0.0  \n",
              "3             0.0      0.0      0.0  \n",
              "4             0.0      0.0      0.0  \n",
              "...           ...      ...      ...  \n",
              "514956        0.0      0.0      0.0  \n",
              "514957        1.0      0.0      0.0  \n",
              "514958        0.0      0.0      0.0  \n",
              "514959        0.0      0.0      0.0  \n",
              "514960        0.0      0.0      0.0  \n",
              "\n",
              "[514961 rows x 25 columns]"
            ],
            "text/html": [
              "\n",
              "  <div id=\"df-5190c651-a054-48b8-b1d3-75f5948cf997\" class=\"colab-df-container\">\n",
              "    <div>\n",
              "<style scoped>\n",
              "    .dataframe tbody tr th:only-of-type {\n",
              "        vertical-align: middle;\n",
              "    }\n",
              "\n",
              "    .dataframe tbody tr th {\n",
              "        vertical-align: top;\n",
              "    }\n",
              "\n",
              "    .dataframe thead th {\n",
              "        text-align: right;\n",
              "    }\n",
              "</style>\n",
              "<table border=\"1\" class=\"dataframe\">\n",
              "  <thead>\n",
              "    <tr style=\"text-align: right;\">\n",
              "      <th></th>\n",
              "      <th>userid</th>\n",
              "      <th>movieid</th>\n",
              "      <th>rating</th>\n",
              "      <th>timestamp</th>\n",
              "      <th>fav</th>\n",
              "      <th>title</th>\n",
              "      <th>genre</th>\n",
              "      <th>Romance</th>\n",
              "      <th>Sci-Fi</th>\n",
              "      <th>Animation</th>\n",
              "      <th>...</th>\n",
              "      <th>Musical</th>\n",
              "      <th>Mystery</th>\n",
              "      <th>Horror</th>\n",
              "      <th>Action</th>\n",
              "      <th>Crime</th>\n",
              "      <th>Documentary</th>\n",
              "      <th>War</th>\n",
              "      <th>Film-Noir</th>\n",
              "      <th>Western</th>\n",
              "      <th>Fantasy</th>\n",
              "    </tr>\n",
              "  </thead>\n",
              "  <tbody>\n",
              "    <tr>\n",
              "      <th>0</th>\n",
              "      <td>0</td>\n",
              "      <td>2235</td>\n",
              "      <td>5</td>\n",
              "      <td>978228212</td>\n",
              "      <td>1</td>\n",
              "      <td>One Man's Hero (1999)</td>\n",
              "      <td>[Drama, War]</td>\n",
              "      <td>0.0</td>\n",
              "      <td>0.0</td>\n",
              "      <td>0.0</td>\n",
              "      <td>...</td>\n",
              "      <td>0.0</td>\n",
              "      <td>0.0</td>\n",
              "      <td>0.0</td>\n",
              "      <td>0.0</td>\n",
              "      <td>0.0</td>\n",
              "      <td>0.0</td>\n",
              "      <td>1.0</td>\n",
              "      <td>0.0</td>\n",
              "      <td>0.0</td>\n",
              "      <td>0.0</td>\n",
              "    </tr>\n",
              "    <tr>\n",
              "      <th>1</th>\n",
              "      <td>0</td>\n",
              "      <td>587</td>\n",
              "      <td>4</td>\n",
              "      <td>978224925</td>\n",
              "      <td>1</td>\n",
              "      <td>Ghost (1990)</td>\n",
              "      <td>[Comedy, Romance, Thriller]</td>\n",
              "      <td>1.0</td>\n",
              "      <td>0.0</td>\n",
              "      <td>0.0</td>\n",
              "      <td>...</td>\n",
              "      <td>0.0</td>\n",
              "      <td>0.0</td>\n",
              "      <td>0.0</td>\n",
              "      <td>0.0</td>\n",
              "      <td>0.0</td>\n",
              "      <td>0.0</td>\n",
              "      <td>0.0</td>\n",
              "      <td>0.0</td>\n",
              "      <td>0.0</td>\n",
              "      <td>0.0</td>\n",
              "    </tr>\n",
              "    <tr>\n",
              "      <th>2</th>\n",
              "      <td>0</td>\n",
              "      <td>2240</td>\n",
              "      <td>3</td>\n",
              "      <td>978228408</td>\n",
              "      <td>0</td>\n",
              "      <td>My Bodyguard (1980)</td>\n",
              "      <td>[Drama]</td>\n",
              "      <td>0.0</td>\n",
              "      <td>0.0</td>\n",
              "      <td>0.0</td>\n",
              "      <td>...</td>\n",
              "      <td>0.0</td>\n",
              "      <td>0.0</td>\n",
              "      <td>0.0</td>\n",
              "      <td>0.0</td>\n",
              "      <td>0.0</td>\n",
              "      <td>0.0</td>\n",
              "      <td>0.0</td>\n",
              "      <td>0.0</td>\n",
              "      <td>0.0</td>\n",
              "      <td>0.0</td>\n",
              "    </tr>\n",
              "    <tr>\n",
              "      <th>3</th>\n",
              "      <td>0</td>\n",
              "      <td>2884</td>\n",
              "      <td>5</td>\n",
              "      <td>978226378</td>\n",
              "      <td>1</td>\n",
              "      <td>Dog Park (1998)</td>\n",
              "      <td>[Comedy, Romance]</td>\n",
              "      <td>1.0</td>\n",
              "      <td>0.0</td>\n",
              "      <td>0.0</td>\n",
              "      <td>...</td>\n",
              "      <td>0.0</td>\n",
              "      <td>0.0</td>\n",
              "      <td>0.0</td>\n",
              "      <td>0.0</td>\n",
              "      <td>0.0</td>\n",
              "      <td>0.0</td>\n",
              "      <td>0.0</td>\n",
              "      <td>0.0</td>\n",
              "      <td>0.0</td>\n",
              "      <td>0.0</td>\n",
              "    </tr>\n",
              "    <tr>\n",
              "      <th>4</th>\n",
              "      <td>0</td>\n",
              "      <td>2885</td>\n",
              "      <td>3</td>\n",
              "      <td>978227125</td>\n",
              "      <td>0</td>\n",
              "      <td>Guinevere (1999)</td>\n",
              "      <td>[Drama, Romance]</td>\n",
              "      <td>1.0</td>\n",
              "      <td>0.0</td>\n",
              "      <td>0.0</td>\n",
              "      <td>...</td>\n",
              "      <td>0.0</td>\n",
              "      <td>0.0</td>\n",
              "      <td>0.0</td>\n",
              "      <td>0.0</td>\n",
              "      <td>0.0</td>\n",
              "      <td>0.0</td>\n",
              "      <td>0.0</td>\n",
              "      <td>0.0</td>\n",
              "      <td>0.0</td>\n",
              "      <td>0.0</td>\n",
              "    </tr>\n",
              "    <tr>\n",
              "      <th>...</th>\n",
              "      <td>...</td>\n",
              "      <td>...</td>\n",
              "      <td>...</td>\n",
              "      <td>...</td>\n",
              "      <td>...</td>\n",
              "      <td>...</td>\n",
              "      <td>...</td>\n",
              "      <td>...</td>\n",
              "      <td>...</td>\n",
              "      <td>...</td>\n",
              "      <td>...</td>\n",
              "      <td>...</td>\n",
              "      <td>...</td>\n",
              "      <td>...</td>\n",
              "      <td>...</td>\n",
              "      <td>...</td>\n",
              "      <td>...</td>\n",
              "      <td>...</td>\n",
              "      <td>...</td>\n",
              "      <td>...</td>\n",
              "      <td>...</td>\n",
              "    </tr>\n",
              "    <tr>\n",
              "      <th>514956</th>\n",
              "      <td>999</td>\n",
              "      <td>919</td>\n",
              "      <td>1</td>\n",
              "      <td>956716541</td>\n",
              "      <td>0</td>\n",
              "      <td>Wizard of Oz, The (1939)</td>\n",
              "      <td>[Adventure, Children's, Drama, Musical]</td>\n",
              "      <td>0.0</td>\n",
              "      <td>0.0</td>\n",
              "      <td>0.0</td>\n",
              "      <td>...</td>\n",
              "      <td>1.0</td>\n",
              "      <td>0.0</td>\n",
              "      <td>0.0</td>\n",
              "      <td>0.0</td>\n",
              "      <td>0.0</td>\n",
              "      <td>0.0</td>\n",
              "      <td>0.0</td>\n",
              "      <td>0.0</td>\n",
              "      <td>0.0</td>\n",
              "      <td>0.0</td>\n",
              "    </tr>\n",
              "    <tr>\n",
              "      <th>514957</th>\n",
              "      <td>999</td>\n",
              "      <td>922</td>\n",
              "      <td>5</td>\n",
              "      <td>956704887</td>\n",
              "      <td>1</td>\n",
              "      <td>Sunset Blvd. (a.k.a. Sunset Boulevard) (1950)</td>\n",
              "      <td>[Film-Noir]</td>\n",
              "      <td>0.0</td>\n",
              "      <td>0.0</td>\n",
              "      <td>0.0</td>\n",
              "      <td>...</td>\n",
              "      <td>0.0</td>\n",
              "      <td>0.0</td>\n",
              "      <td>0.0</td>\n",
              "      <td>0.0</td>\n",
              "      <td>0.0</td>\n",
              "      <td>0.0</td>\n",
              "      <td>0.0</td>\n",
              "      <td>1.0</td>\n",
              "      <td>0.0</td>\n",
              "      <td>0.0</td>\n",
              "    </tr>\n",
              "    <tr>\n",
              "      <th>514958</th>\n",
              "      <td>999</td>\n",
              "      <td>524</td>\n",
              "      <td>5</td>\n",
              "      <td>956704746</td>\n",
              "      <td>1</td>\n",
              "      <td>Rudy (1993)</td>\n",
              "      <td>[Drama]</td>\n",
              "      <td>0.0</td>\n",
              "      <td>0.0</td>\n",
              "      <td>0.0</td>\n",
              "      <td>...</td>\n",
              "      <td>0.0</td>\n",
              "      <td>0.0</td>\n",
              "      <td>0.0</td>\n",
              "      <td>0.0</td>\n",
              "      <td>0.0</td>\n",
              "      <td>0.0</td>\n",
              "      <td>0.0</td>\n",
              "      <td>0.0</td>\n",
              "      <td>0.0</td>\n",
              "      <td>0.0</td>\n",
              "    </tr>\n",
              "    <tr>\n",
              "      <th>514959</th>\n",
              "      <td>999</td>\n",
              "      <td>924</td>\n",
              "      <td>4</td>\n",
              "      <td>956715648</td>\n",
              "      <td>1</td>\n",
              "      <td>2001: A Space Odyssey (1968)</td>\n",
              "      <td>[Drama, Mystery, Sci-Fi, Thriller]</td>\n",
              "      <td>0.0</td>\n",
              "      <td>1.0</td>\n",
              "      <td>0.0</td>\n",
              "      <td>...</td>\n",
              "      <td>0.0</td>\n",
              "      <td>1.0</td>\n",
              "      <td>0.0</td>\n",
              "      <td>0.0</td>\n",
              "      <td>0.0</td>\n",
              "      <td>0.0</td>\n",
              "      <td>0.0</td>\n",
              "      <td>0.0</td>\n",
              "      <td>0.0</td>\n",
              "      <td>0.0</td>\n",
              "    </tr>\n",
              "    <tr>\n",
              "      <th>514960</th>\n",
              "      <td>999</td>\n",
              "      <td>925</td>\n",
              "      <td>4</td>\n",
              "      <td>956715569</td>\n",
              "      <td>1</td>\n",
              "      <td>Golden Earrings (1947)</td>\n",
              "      <td>[Adventure, Romance]</td>\n",
              "      <td>1.0</td>\n",
              "      <td>0.0</td>\n",
              "      <td>0.0</td>\n",
              "      <td>...</td>\n",
              "      <td>0.0</td>\n",
              "      <td>0.0</td>\n",
              "      <td>0.0</td>\n",
              "      <td>0.0</td>\n",
              "      <td>0.0</td>\n",
              "      <td>0.0</td>\n",
              "      <td>0.0</td>\n",
              "      <td>0.0</td>\n",
              "      <td>0.0</td>\n",
              "      <td>0.0</td>\n",
              "    </tr>\n",
              "  </tbody>\n",
              "</table>\n",
              "<p>514961 rows × 25 columns</p>\n",
              "</div>\n",
              "    <div class=\"colab-df-buttons\">\n",
              "\n",
              "  <div class=\"colab-df-container\">\n",
              "    <button class=\"colab-df-convert\" onclick=\"convertToInteractive('df-5190c651-a054-48b8-b1d3-75f5948cf997')\"\n",
              "            title=\"Convert this dataframe to an interactive table.\"\n",
              "            style=\"display:none;\">\n",
              "\n",
              "  <svg xmlns=\"http://www.w3.org/2000/svg\" height=\"24px\" viewBox=\"0 -960 960 960\">\n",
              "    <path d=\"M120-120v-720h720v720H120Zm60-500h600v-160H180v160Zm220 220h160v-160H400v160Zm0 220h160v-160H400v160ZM180-400h160v-160H180v160Zm440 0h160v-160H620v160ZM180-180h160v-160H180v160Zm440 0h160v-160H620v160Z\"/>\n",
              "  </svg>\n",
              "    </button>\n",
              "\n",
              "  <style>\n",
              "    .colab-df-container {\n",
              "      display:flex;\n",
              "      gap: 12px;\n",
              "    }\n",
              "\n",
              "    .colab-df-convert {\n",
              "      background-color: #E8F0FE;\n",
              "      border: none;\n",
              "      border-radius: 50%;\n",
              "      cursor: pointer;\n",
              "      display: none;\n",
              "      fill: #1967D2;\n",
              "      height: 32px;\n",
              "      padding: 0 0 0 0;\n",
              "      width: 32px;\n",
              "    }\n",
              "\n",
              "    .colab-df-convert:hover {\n",
              "      background-color: #E2EBFA;\n",
              "      box-shadow: 0px 1px 2px rgba(60, 64, 67, 0.3), 0px 1px 3px 1px rgba(60, 64, 67, 0.15);\n",
              "      fill: #174EA6;\n",
              "    }\n",
              "\n",
              "    .colab-df-buttons div {\n",
              "      margin-bottom: 4px;\n",
              "    }\n",
              "\n",
              "    [theme=dark] .colab-df-convert {\n",
              "      background-color: #3B4455;\n",
              "      fill: #D2E3FC;\n",
              "    }\n",
              "\n",
              "    [theme=dark] .colab-df-convert:hover {\n",
              "      background-color: #434B5C;\n",
              "      box-shadow: 0px 1px 3px 1px rgba(0, 0, 0, 0.15);\n",
              "      filter: drop-shadow(0px 1px 2px rgba(0, 0, 0, 0.3));\n",
              "      fill: #FFFFFF;\n",
              "    }\n",
              "  </style>\n",
              "\n",
              "    <script>\n",
              "      const buttonEl =\n",
              "        document.querySelector('#df-5190c651-a054-48b8-b1d3-75f5948cf997 button.colab-df-convert');\n",
              "      buttonEl.style.display =\n",
              "        google.colab.kernel.accessAllowed ? 'block' : 'none';\n",
              "\n",
              "      async function convertToInteractive(key) {\n",
              "        const element = document.querySelector('#df-5190c651-a054-48b8-b1d3-75f5948cf997');\n",
              "        const dataTable =\n",
              "          await google.colab.kernel.invokeFunction('convertToInteractive',\n",
              "                                                    [key], {});\n",
              "        if (!dataTable) return;\n",
              "\n",
              "        const docLinkHtml = 'Like what you see? Visit the ' +\n",
              "          '<a target=\"_blank\" href=https://colab.research.google.com/notebooks/data_table.ipynb>data table notebook</a>'\n",
              "          + ' to learn more about interactive tables.';\n",
              "        element.innerHTML = '';\n",
              "        dataTable['output_type'] = 'display_data';\n",
              "        await google.colab.output.renderOutput(dataTable, element);\n",
              "        const docLink = document.createElement('div');\n",
              "        docLink.innerHTML = docLinkHtml;\n",
              "        element.appendChild(docLink);\n",
              "      }\n",
              "    </script>\n",
              "  </div>\n",
              "\n",
              "\n",
              "<div id=\"df-739b119e-53b5-4e39-8b1a-c2bb06324a3c\">\n",
              "  <button class=\"colab-df-quickchart\" onclick=\"quickchart('df-739b119e-53b5-4e39-8b1a-c2bb06324a3c')\"\n",
              "            title=\"Suggest charts\"\n",
              "            style=\"display:none;\">\n",
              "\n",
              "<svg xmlns=\"http://www.w3.org/2000/svg\" height=\"24px\"viewBox=\"0 0 24 24\"\n",
              "     width=\"24px\">\n",
              "    <g>\n",
              "        <path d=\"M19 3H5c-1.1 0-2 .9-2 2v14c0 1.1.9 2 2 2h14c1.1 0 2-.9 2-2V5c0-1.1-.9-2-2-2zM9 17H7v-7h2v7zm4 0h-2V7h2v10zm4 0h-2v-4h2v4z\"/>\n",
              "    </g>\n",
              "</svg>\n",
              "  </button>\n",
              "\n",
              "<style>\n",
              "  .colab-df-quickchart {\n",
              "      --bg-color: #E8F0FE;\n",
              "      --fill-color: #1967D2;\n",
              "      --hover-bg-color: #E2EBFA;\n",
              "      --hover-fill-color: #174EA6;\n",
              "      --disabled-fill-color: #AAA;\n",
              "      --disabled-bg-color: #DDD;\n",
              "  }\n",
              "\n",
              "  [theme=dark] .colab-df-quickchart {\n",
              "      --bg-color: #3B4455;\n",
              "      --fill-color: #D2E3FC;\n",
              "      --hover-bg-color: #434B5C;\n",
              "      --hover-fill-color: #FFFFFF;\n",
              "      --disabled-bg-color: #3B4455;\n",
              "      --disabled-fill-color: #666;\n",
              "  }\n",
              "\n",
              "  .colab-df-quickchart {\n",
              "    background-color: var(--bg-color);\n",
              "    border: none;\n",
              "    border-radius: 50%;\n",
              "    cursor: pointer;\n",
              "    display: none;\n",
              "    fill: var(--fill-color);\n",
              "    height: 32px;\n",
              "    padding: 0;\n",
              "    width: 32px;\n",
              "  }\n",
              "\n",
              "  .colab-df-quickchart:hover {\n",
              "    background-color: var(--hover-bg-color);\n",
              "    box-shadow: 0 1px 2px rgba(60, 64, 67, 0.3), 0 1px 3px 1px rgba(60, 64, 67, 0.15);\n",
              "    fill: var(--button-hover-fill-color);\n",
              "  }\n",
              "\n",
              "  .colab-df-quickchart-complete:disabled,\n",
              "  .colab-df-quickchart-complete:disabled:hover {\n",
              "    background-color: var(--disabled-bg-color);\n",
              "    fill: var(--disabled-fill-color);\n",
              "    box-shadow: none;\n",
              "  }\n",
              "\n",
              "  .colab-df-spinner {\n",
              "    border: 2px solid var(--fill-color);\n",
              "    border-color: transparent;\n",
              "    border-bottom-color: var(--fill-color);\n",
              "    animation:\n",
              "      spin 1s steps(1) infinite;\n",
              "  }\n",
              "\n",
              "  @keyframes spin {\n",
              "    0% {\n",
              "      border-color: transparent;\n",
              "      border-bottom-color: var(--fill-color);\n",
              "      border-left-color: var(--fill-color);\n",
              "    }\n",
              "    20% {\n",
              "      border-color: transparent;\n",
              "      border-left-color: var(--fill-color);\n",
              "      border-top-color: var(--fill-color);\n",
              "    }\n",
              "    30% {\n",
              "      border-color: transparent;\n",
              "      border-left-color: var(--fill-color);\n",
              "      border-top-color: var(--fill-color);\n",
              "      border-right-color: var(--fill-color);\n",
              "    }\n",
              "    40% {\n",
              "      border-color: transparent;\n",
              "      border-right-color: var(--fill-color);\n",
              "      border-top-color: var(--fill-color);\n",
              "    }\n",
              "    60% {\n",
              "      border-color: transparent;\n",
              "      border-right-color: var(--fill-color);\n",
              "    }\n",
              "    80% {\n",
              "      border-color: transparent;\n",
              "      border-right-color: var(--fill-color);\n",
              "      border-bottom-color: var(--fill-color);\n",
              "    }\n",
              "    90% {\n",
              "      border-color: transparent;\n",
              "      border-bottom-color: var(--fill-color);\n",
              "    }\n",
              "  }\n",
              "</style>\n",
              "\n",
              "  <script>\n",
              "    async function quickchart(key) {\n",
              "      const quickchartButtonEl =\n",
              "        document.querySelector('#' + key + ' button');\n",
              "      quickchartButtonEl.disabled = true;  // To prevent multiple clicks.\n",
              "      quickchartButtonEl.classList.add('colab-df-spinner');\n",
              "      try {\n",
              "        const charts = await google.colab.kernel.invokeFunction(\n",
              "            'suggestCharts', [key], {});\n",
              "      } catch (error) {\n",
              "        console.error('Error during call to suggestCharts:', error);\n",
              "      }\n",
              "      quickchartButtonEl.classList.remove('colab-df-spinner');\n",
              "      quickchartButtonEl.classList.add('colab-df-quickchart-complete');\n",
              "    }\n",
              "    (() => {\n",
              "      let quickchartButtonEl =\n",
              "        document.querySelector('#df-739b119e-53b5-4e39-8b1a-c2bb06324a3c button');\n",
              "      quickchartButtonEl.style.display =\n",
              "        google.colab.kernel.accessAllowed ? 'block' : 'none';\n",
              "    })();\n",
              "  </script>\n",
              "</div>\n",
              "\n",
              "  <div id=\"id_cd150add-4f22-40b2-80ee-4b91ba74a678\">\n",
              "    <style>\n",
              "      .colab-df-generate {\n",
              "        background-color: #E8F0FE;\n",
              "        border: none;\n",
              "        border-radius: 50%;\n",
              "        cursor: pointer;\n",
              "        display: none;\n",
              "        fill: #1967D2;\n",
              "        height: 32px;\n",
              "        padding: 0 0 0 0;\n",
              "        width: 32px;\n",
              "      }\n",
              "\n",
              "      .colab-df-generate:hover {\n",
              "        background-color: #E2EBFA;\n",
              "        box-shadow: 0px 1px 2px rgba(60, 64, 67, 0.3), 0px 1px 3px 1px rgba(60, 64, 67, 0.15);\n",
              "        fill: #174EA6;\n",
              "      }\n",
              "\n",
              "      [theme=dark] .colab-df-generate {\n",
              "        background-color: #3B4455;\n",
              "        fill: #D2E3FC;\n",
              "      }\n",
              "\n",
              "      [theme=dark] .colab-df-generate:hover {\n",
              "        background-color: #434B5C;\n",
              "        box-shadow: 0px 1px 3px 1px rgba(0, 0, 0, 0.15);\n",
              "        filter: drop-shadow(0px 1px 2px rgba(0, 0, 0, 0.3));\n",
              "        fill: #FFFFFF;\n",
              "      }\n",
              "    </style>\n",
              "    <button class=\"colab-df-generate\" onclick=\"generateWithVariable('ratings')\"\n",
              "            title=\"Generate code using this dataframe.\"\n",
              "            style=\"display:none;\">\n",
              "\n",
              "  <svg xmlns=\"http://www.w3.org/2000/svg\" height=\"24px\"viewBox=\"0 0 24 24\"\n",
              "       width=\"24px\">\n",
              "    <path d=\"M7,19H8.4L18.45,9,17,7.55,7,17.6ZM5,21V16.75L18.45,3.32a2,2,0,0,1,2.83,0l1.4,1.43a1.91,1.91,0,0,1,.58,1.4,1.91,1.91,0,0,1-.58,1.4L9.25,21ZM18.45,9,17,7.55Zm-12,3A5.31,5.31,0,0,0,4.9,8.1,5.31,5.31,0,0,0,1,6.5,5.31,5.31,0,0,0,4.9,4.9,5.31,5.31,0,0,0,6.5,1,5.31,5.31,0,0,0,8.1,4.9,5.31,5.31,0,0,0,12,6.5,5.46,5.46,0,0,0,6.5,12Z\"/>\n",
              "  </svg>\n",
              "    </button>\n",
              "    <script>\n",
              "      (() => {\n",
              "      const buttonEl =\n",
              "        document.querySelector('#id_cd150add-4f22-40b2-80ee-4b91ba74a678 button.colab-df-generate');\n",
              "      buttonEl.style.display =\n",
              "        google.colab.kernel.accessAllowed ? 'block' : 'none';\n",
              "\n",
              "      buttonEl.onclick = () => {\n",
              "        google.colab.notebook.generateWithVariable('ratings');\n",
              "      }\n",
              "      })();\n",
              "    </script>\n",
              "  </div>\n",
              "\n",
              "    </div>\n",
              "  </div>\n"
            ],
            "application/vnd.google.colaboratory.intrinsic+json": {
              "type": "dataframe",
              "variable_name": "ratings"
            }
          },
          "metadata": {},
          "execution_count": 36
        }
      ],
      "source": [
        "ratings"
      ]
    },
    {
      "cell_type": "code",
      "source": [
        "rating_cnt = {}\n",
        "for x in ratings.rating.tolist():\n",
        "  if x not in rating_cnt:\n",
        "    rating_cnt[x] = 1\n",
        "  else:\n",
        "    rating_cnt[x] += 1\n",
        "\n",
        "plt.figure(figsize=(14, 8))\n",
        "plt.bar(rating_cnt.keys(), rating_cnt.values(), color='skyblue', width=0.6)\n",
        "plt.xlabel('Rating')\n",
        "plt.ylabel('Times')\n",
        "plt.title('Rating Distribution')"
      ],
      "metadata": {
        "colab": {
          "base_uri": "https://localhost:8080/",
          "height": 735
        },
        "id": "YhzHJf-kuznw",
        "outputId": "238d348a-4996-4367-c7da-075fa6b5c9d1"
      },
      "execution_count": null,
      "outputs": [
        {
          "output_type": "execute_result",
          "data": {
            "text/plain": [
              "Text(0.5, 1.0, 'Rating Distribution')"
            ]
          },
          "metadata": {},
          "execution_count": 60
        },
        {
          "output_type": "display_data",
          "data": {
            "text/plain": [
              "<Figure size 1400x800 with 1 Axes>"
            ],
            "image/png": "[encoded data removed]"
          },
          "metadata": {}
        }
      ]
    },
    {
      "cell_type": "code",
      "source": [
        "genre_cnt = {}\n",
        "\n",
        "for gens in movies.genre.tolist():\n",
        "  for x in gens:\n",
        "    if x in genre_cnt:\n",
        "      genre_cnt[x] += 1\n",
        "    else:\n",
        "      genre_cnt[x] = 1\n",
        "\n",
        "plt.figure(figsize=(14, 8))\n",
        "plt.bar(genre_cnt.keys(), genre_cnt.values(), color='skyblue', width=0.6)\n",
        "plt.xlabel('Movie genre')\n",
        "plt.ylabel('Number of movies')\n",
        "plt.title('Genre Distribution')\n",
        "\n",
        "plt.xticks(rotation=45, ha='right')\n",
        "\n",
        "plt.show()"
      ],
      "metadata": {
        "colab": {
          "base_uri": "https://localhost:8080/",
          "height": 781
        },
        "id": "AMPvNrkefy4q",
        "outputId": "15990f2f-c239-45e6-a255-412a25f4509c"
      },
      "execution_count": null,
      "outputs": [
        {
          "output_type": "display_data",
          "data": {
            "text/plain": [
              "<Figure size 1400x800 with 1 Axes>"
            ],
            "image/png": "[encoded data removed]"
          },
          "metadata": {}
        }
      ]
    },
    {
      "cell_type": "code",
      "execution_count": null,
      "metadata": {
        "colab": {
          "base_uri": "https://localhost:8080/"
        },
        "id": "Okv_xxU8Ksss",
        "outputId": "a1e10287-901b-422e-b039-72cbe0087285"
      },
      "outputs": [
        {
          "output_type": "stream",
          "name": "stderr",
          "text": [
            "100%|██████████| 1000/1000 [00:02<00:00, 470.67it/s]\n"
          ]
        }
      ],
      "source": [
        "import random\n",
        "bundle_dict = {}\n",
        "user_bundle = {}\n",
        "random.seed(2024)\n",
        "\n",
        "with open('bundle_item.txt', 'w') as f2, open('user_bundle_train.txt', 'w') as f3, open('user_bundle_tune.txt', 'w') as f4, open('user_bundle_test.txt', 'w') as f5:\n",
        "  for user in tqdm(user_list):\n",
        "    bundles = []\n",
        "    # for week in new_ratings[new_ratings.useridn == user].week.unique():\n",
        "    # for genre in genres:\n",
        "      # bundle = ratings[(ratings.userid == user) & (ratings[f'{genre}'] == 1)].movieid.unique()\n",
        "    bundle = ratings[(ratings.userid == user) & (ratings.fav == 1)].movieid.unique()\n",
        "    bundle.sort()\n",
        "\n",
        "    if 5 <= len(bundle) <= 10:\n",
        "      bundle = tuple(bundle)\n",
        "      if bundle not in bundle_dict:\n",
        "        bundle_dict[bundle] = len(bundle_dict)\n",
        "        for item in bundle:\n",
        "          f2.write(f'{bundle_dict[bundle]}\\t{item}\\n')\n",
        "      bundles.append(bundle_dict[bundle])\n",
        "    elif 10 < len(bundle) < 150:\n",
        "      for i in range(0, len(bundle), 10):\n",
        "        tmp_bun = tuple(bundle[i:i+10])\n",
        "        if len(tmp_bun) >= 5 and tmp_bun not in bundle_dict:\n",
        "          bundle_dict[tmp_bun] = len(bundle_dict)\n",
        "          for item in tmp_bun:\n",
        "            f2.write(f'{bundle_dict[tmp_bun]}\\t{item}\\n')\n",
        "          bundles.append(bundle_dict[tmp_bun])\n",
        "\n",
        "    random.shuffle(bundles)\n",
        "    user_bundle[user] = bundles\n",
        "    # if len(bundles) >= 1:\n",
        "    for bundle in bundles[:int(0.6*len(bundles))]:\n",
        "      f3.write(f'{user}\\t{bundle}\\n')\n",
        "\n",
        "    for bundle in bundles[int(0.6*len(bundles)):int(0.8*len(bundles))]:\n",
        "      f4.write(f'{user}\\t{bundle}\\n')\n",
        "\n",
        "    for bundle in bundles[int(0.8*len(bundles)):]:\n",
        "      f5.write(f'{user}\\t{bundle}\\n')"
      ]
    },
    {
      "cell_type": "code",
      "execution_count": null,
      "metadata": {
        "colab": {
          "base_uri": "https://localhost:8080/"
        },
        "id": "4Kz6CXlNa3ez",
        "outputId": "d71d8e1e-5864-4dbe-fd12-94f33a0c27d6"
      },
      "outputs": [
        {
          "output_type": "execute_result",
          "data": {
            "text/plain": [
              "1463"
            ]
          },
          "metadata": {},
          "execution_count": 65
        }
      ],
      "source": [
        "len(bundle_dict)"
      ]
    },
    {
      "cell_type": "code",
      "execution_count": null,
      "metadata": {
        "colab": {
          "base_uri": "https://localhost:8080/"
        },
        "id": "FyH2oSfm1sUp",
        "outputId": "46d4755c-4db3-43fd-c41b-6f0744c53731"
      },
      "outputs": [
        {
          "output_type": "execute_result",
          "data": {
            "text/plain": [
              "3416"
            ]
          },
          "metadata": {},
          "execution_count": 66
        }
      ],
      "source": [
        "len(movies_list)"
      ]
    },
    {
      "cell_type": "code",
      "execution_count": null,
      "metadata": {
        "id": "hSKVLqwljl70",
        "colab": {
          "base_uri": "https://localhost:8080/"
        },
        "outputId": "cc6fa94a-9161-45af-bdde-2a501dcca961"
      },
      "outputs": [
        {
          "output_type": "stream",
          "name": "stderr",
          "text": [
            "<ipython-input-24-129e630aae3f>:20: UserWarning: Creating a tensor from a list of numpy.ndarrays is extremely slow. Please consider converting the list to a single numpy.ndarray with numpy.array() before converting to a tensor. (Triggered internally at ../torch/csrc/utils/tensor_new.cpp:275.)\n",
            "  indices=torch.tensor([bi_idx[:, 0], bi_idx[:, 1]]),\n",
            "<ipython-input-24-129e630aae3f>:24: UserWarning: Sparse CSR tensor support is in beta state. If you miss a functionality in the sparse tensor support, please submit a feature request to https://github.com/pytorch/pytorch/issues. (Triggered internally at ../aten/src/ATen/SparseCsrTensorImpl.cpp:53.)\n",
            "  intersect = bi_graph @ bi_graph.T\n"
          ]
        }
      ],
      "source": [
        "!mkdir data\n",
        "import numpy as np\n",
        "import pandas as pd\n",
        "import scipy.sparse as sp\n",
        "import torch\n",
        "from sklearn.preprocessing import LabelEncoder\n",
        "\n",
        "bi = pd.read_csv('bundle_item.txt', sep=\"\\t\", names=['b', 'i'])\n",
        "ui = pd.read_csv('user_item.txt', sep=\"\\t\", names=['u', 'i'])\n",
        "ub_train = pd.read_csv('user_bundle_train.txt', sep=\"\\t\", names=['u', 'b'])\n",
        "ub_test = pd.read_csv('user_bundle_test.txt', sep=\"\\t\", names=['u', 'b'])\n",
        "ub_valid = pd.read_csv('user_bundle_tune.txt', sep=\"\\t\", names=['u', 'b'])\n",
        "\n",
        "num_u = ui['u'].nunique()\n",
        "num_b = bi['b'].nunique()\n",
        "num_i = bi['i'].nunique()\n",
        "num_iu = ui['i'].nunique()\n",
        "bi_idx = bi.to_numpy()\n",
        "bi_graph = torch.sparse_coo_tensor(\n",
        "    indices=torch.tensor([bi_idx[:, 0], bi_idx[:, 1]]),\n",
        "    values=np.ones(len(bi)),\n",
        "    size=(num_b, num_iu),\n",
        ")\n",
        "intersect = bi_graph @ bi_graph.T\n",
        "mask = torch.eye(num_b)\n",
        "\n",
        "total_item = bi_graph.sum(dim=1)\n",
        "total_item = total_item.to_dense()\n",
        "total_item_a = total_item.view(-1, 1)\n",
        "total_item_b = total_item.view(1, -1)\n",
        "\n",
        "total_overlap = total_item_a + total_item_b\n",
        "inter_non_eye = intersect - intersect * mask\n",
        "total_overlap_non_eye = total_overlap - total_overlap * mask + mask\n",
        "total_not_overlap = total_overlap_non_eye - inter_non_eye\n",
        "jaccard_pair_bundle = inter_non_eye.to_dense() / total_not_overlap\n",
        "eli = (jaccard_pair_bundle >= 0.5).nonzero()\n",
        "eli_unique = eli[:, 0].unique()\n",
        "ub = pd.concat([ub_train, ub_test, ub_valid])\n",
        "bi_fil = bi[~bi['b'].isin(eli_unique.tolist())]\n",
        "ub_train_fil = ub_train[~ub_train['b'].isin(eli_unique.tolist())]\n",
        "ub_test_fil = ub_test[~ub_test['b'].isin(eli_unique.tolist())]\n",
        "ub_valid_fil = ub_valid[~ub_valid['b'].isin(eli_unique.tolist())]\n",
        "ub_all  = pd.concat([ub_train_fil, ub_test_fil, ub_valid_fil])\n",
        "ub_all = ub_all.sample(frac=1)\n",
        "train_idx = int(len(ub_all) * 0.7)\n",
        "valid_idx = int(len(ub_all) * 0.8)\n",
        "ub_train_fil = ub_all[:train_idx]\n",
        "ub_valid_fil = ub_all[train_idx:valid_idx]\n",
        "ub_test_fil = ub_all[valid_idx:]\n",
        "ub_train_fil.to_csv(\"data/user_bundle_train.txt\", sep=\"\\t\", index=False, header=False)\n",
        "ub_test_fil.to_csv(\"data/user_bundle_test.txt\", sep=\"\\t\", index=False, header=False)\n",
        "ub_valid_fil.to_csv(\"data/user_bundle_valid.txt\", sep=\"\\t\", index=False, header=False)\n",
        "bi_fil.to_csv(\"data/bundle_item.txt\", sep=\"\\t\", index=False, header=False)"
      ]
    },
    {
      "cell_type": "code",
      "execution_count": null,
      "metadata": {
        "colab": {
          "base_uri": "https://localhost:8080/"
        },
        "id": "8in1-JZdmcla",
        "outputId": "90a8047d-7294-48f5-9fcc-8709a7eaf88c"
      },
      "outputs": [
        {
          "output_type": "execute_result",
          "data": {
            "text/plain": [
              "1957"
            ]
          },
          "metadata": {},
          "execution_count": 25
        }
      ],
      "source": [
        "len(eli_unique)"
      ]
    },
    {
      "cell_type": "code",
      "execution_count": null,
      "metadata": {
        "colab": {
          "base_uri": "https://localhost:8080/",
          "height": 718
        },
        "id": "9lBxWHhcvThd",
        "outputId": "d7967ac8-2d62-460f-cd20-4c161700cf79"
      },
      "outputs": [
        {
          "output_type": "display_data",
          "data": {
            "text/plain": [
              "<Figure size 1400x800 with 1 Axes>"
            ],
            "image/png": "[encoded data removed]"
          },
          "metadata": {}
        }
      ],
      "source": [
        "# ui_ = {item: 0 for item in ratings.movieid.unique()}\n",
        "# for item in ratings.movieid.unique():\n",
        "#   for user in user_list:\n",
        "#     if item in ui[user]:\n",
        "#       ui_[item] += 1\n",
        "\n",
        "# plt.figure(figsize=(18, 10))\n",
        "# plt.bar(ui_.keys(), ui_.values())\n",
        "# plt.xlabel('Number of interactions of a movie')\n",
        "# plt.ylabel('Number of movies')\n",
        "# plt.show()\n",
        "index_ranges = [(0, 200), (201, 400), (401, 600), (601, 800), (801, 1000), (1001, 1200), (1201, 1400), (1401, 1600), (1601, 1800), (1801, 2000), (2001, 2200)]\n",
        "movies_cnt = [0] * len(index_ranges)\n",
        "for user, item in ui.items():\n",
        "    for i, (start, end) in enumerate(index_ranges):\n",
        "        if start <= len(item) <= end:\n",
        "            movies_cnt[i] += 1\n",
        "            break\n",
        "\n",
        "x_labels = [f\"{start}-{end}\" for start, end in index_ranges]\n",
        "\n",
        "plt.figure(figsize=(14, 8))\n",
        "plt.bar(x_labels, movies_cnt, color='skyblue', width=0.6)\n",
        "plt.xlabel('Number of movies')\n",
        "plt.ylabel('Number of users')\n",
        "plt.title('Watching Distribution')\n",
        "plt.show()"
      ]
    },
    {
      "cell_type": "code",
      "execution_count": null,
      "metadata": {
        "id": "BVSnjeCqRiWv",
        "colab": {
          "base_uri": "https://localhost:8080/",
          "height": 718
        },
        "outputId": "37ff7acb-852b-40d2-c8e5-9dc6071867c9"
      },
      "outputs": [
        {
          "output_type": "display_data",
          "data": {
            "text/plain": [
              "<Figure size 1400x800 with 1 Axes>"
            ],
            "image/png": "[encoded data removed]"
          },
          "metadata": {}
        }
      ],
      "source": [
        "# bi_dict = {}\n",
        "\n",
        "# for b, idx in bundle_dict.items():\n",
        "#   if len(b) not in bi_dict:\n",
        "#     bi_dict[len(b)] = 0\n",
        "#   else:\n",
        "#     bi_dict[len(b)] += 1\n",
        "\n",
        "# plt.figure(figsize=(18, 10))\n",
        "# plt.bar(bi_dict.keys(), bi_dict.values())\n",
        "# plt.xlabel('Number of items in a bundle')\n",
        "# plt.ylabel('Number of bundles')\n",
        "# plt.show()\n",
        "index_ranges = [x for x in range(5, 10)]\n",
        "movies_cnt = [0] * len(index_ranges)\n",
        "for bun, idx in bundle_dict.items():\n",
        "    for i, x in enumerate(index_ranges):\n",
        "        if len(bun) == x:\n",
        "            movies_cnt[i] += 1\n",
        "            break\n",
        "\n",
        "x_labels = [x for x in index_ranges]\n",
        "\n",
        "plt.figure(figsize=(14, 8))\n",
        "plt.bar(x_labels, movies_cnt, color='skyblue', width=0.6)\n",
        "plt.xlabel('Number of movies')\n",
        "plt.ylabel('Number of bundles')\n",
        "plt.title('Movies Distribution')\n",
        "plt.show()"
      ]
    },
    {
      "cell_type": "code",
      "execution_count": null,
      "metadata": {
        "id": "CXeNck6jvBAu",
        "colab": {
          "base_uri": "https://localhost:8080/",
          "height": 718
        },
        "outputId": "12ea1f0a-7bd3-4816-8471-91e7cc2ee56d"
      },
      "outputs": [
        {
          "output_type": "display_data",
          "data": {
            "text/plain": [
              "<Figure size 1400x800 with 1 Axes>"
            ],
            "image/png": "[encoded data removed]"
          },
          "metadata": {}
        }
      ],
      "source": [
        "# ub_dict = {}\n",
        "# for u, b in user_bundle.items():\n",
        "#   if len(b) not in ub_dict:\n",
        "#     ub_dict[len(b)] = 1\n",
        "#   else:\n",
        "#     ub_dict[len(b)] += 1\n",
        "\n",
        "# plt.figure(figsize=(18, 10))\n",
        "# plt.bar(ub_dict.keys(), ub_dict.values())\n",
        "# plt.xlabel('Number of bundles an user watched')\n",
        "# plt.ylabel('Number of users')\n",
        "# plt.show()\n",
        "buns = [0] * len(bundle_dict)\n",
        "for user, bun in user_bundle.items():\n",
        "  for x in bun:\n",
        "    buns[x] += 1\n",
        "\n",
        "x_labels = [x for x in range(5)]\n",
        "bun_cnt = [0] * 5\n",
        "for i, x in enumerate(buns):\n",
        "  for idx, cnt in enumerate(x_labels):\n",
        "    if x == cnt:\n",
        "      bun_cnt[idx] += 1\n",
        "      break\n",
        "\n",
        "plt.figure(figsize=(14, 8))\n",
        "plt.bar(x_labels, bun_cnt, color='skyblue', width=0.6)\n",
        "plt.xlabel('Number of interactions')\n",
        "plt.ylabel('Number of bundles')\n",
        "plt.title('Interaction Distribution')\n",
        "plt.show()"
      ]
    },
    {
      "cell_type": "code",
      "source": [
        "bun_cnt"
      ],
      "metadata": {
        "colab": {
          "base_uri": "https://localhost:8080/"
        },
        "id": "eQyHKqw8Vhjb",
        "outputId": "060f0029-fb2d-47f0-e98c-eb73bfb298bd"
      },
      "execution_count": null,
      "outputs": [
        {
          "output_type": "execute_result",
          "data": {
            "text/plain": [
              "[0, 1463, 0, 0, 0]"
            ]
          },
          "metadata": {},
          "execution_count": 72
        }
      ]
    },
    {
      "cell_type": "code",
      "execution_count": null,
      "metadata": {
        "id": "UD3bU1kNVGN_"
      },
      "outputs": [],
      "source": [
        "bu_dict = {}\n",
        "\n",
        "for b, idx in bundle_dict.items():\n",
        "  for user in user_list:\n",
        "    if idx not in user_bundle[user]:\n",
        "      bu_dict[idx] = 1\n",
        "    else:\n",
        "      bu_dict[idx] += 1\n",
        "\n",
        "bun_interact = {}\n",
        "for bun, cnt in bu_dict.items():\n",
        "  if cnt not in bun_interact:\n",
        "    bun_interact[cnt] = 1\n",
        "  else:\n",
        "    bun_interact[cnt] += 1\n",
        "\n",
        "plt.figure(figsize=(18, 10))\n",
        "plt.bar(bun_interact.keys(), bun_interact.values())\n",
        "plt.xlabel('Number of times a bundle has been watched')\n",
        "plt.ylabel('Number of bundles')\n",
        "plt.show()"
      ]
    },
    {
      "cell_type": "code",
      "execution_count": null,
      "metadata": {
        "colab": {
          "base_uri": "https://localhost:8080/"
        },
        "id": "Nfj_xNHYNDNS",
        "outputId": "869ae9d3-a369-4907-9f3b-bbe994fc6504"
      },
      "outputs": [
        {
          "name": "stderr",
          "output_type": "stream",
          "text": [
            "100%|██████████| 3883/3883 [00:02<00:00, 1456.79it/s]\n"
          ]
        }
      ],
      "source": [
        "# norm = movies.movieid_norm.unique()\n",
        "# with open('/content/drive/MyDrive/ml-1m/movieid_lookup.txt', 'w') as f:\n",
        "#   for id in tqdm(norm):\n",
        "#     f.write(f'{id}\\t{movies[movies.movieid_norm==id].movieid}\\n')\n"
      ]
    },
    {
      "cell_type": "code",
      "execution_count": null,
      "metadata": {
        "id": "9L3XUypcJG8O"
      },
      "outputs": [],
      "source": []
    }
  ],
  "metadata": {
    "colab": {
      "provenance": []
    },
    "kernelspec": {
      "display_name": "Python 3",
      "name": "python3"
    },
    "language_info": {
      "name": "python"
    }
  },
  "nbformat": 4,
  "nbformat_minor": 0
}